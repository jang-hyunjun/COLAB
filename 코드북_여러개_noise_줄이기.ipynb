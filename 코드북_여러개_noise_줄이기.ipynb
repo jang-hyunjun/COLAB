{
 "cells": [
  {
   "cell_type": "code",
   "execution_count": 1,
   "metadata": {
    "colab": {
     "base_uri": "https://localhost:8080/"
    },
    "id": "sDCfjorAXmAC",
    "outputId": "4ed92d75-9918-482a-ddbd-cae6476d2657"
   },
   "outputs": [
    {
     "name": "stdout",
     "output_type": "stream",
     "text": [
      "Collecting datasets\n",
      "  Downloading datasets-3.5.0-py3-none-any.whl.metadata (19 kB)\n",
      "Requirement already satisfied: filelock in /usr/local/lib/python3.11/dist-packages (from datasets) (3.18.0)\n",
      "Requirement already satisfied: numpy>=1.17 in /usr/local/lib/python3.11/dist-packages (from datasets) (2.0.2)\n",
      "Requirement already satisfied: pyarrow>=15.0.0 in /usr/local/lib/python3.11/dist-packages (from datasets) (18.1.0)\n",
      "Collecting dill<0.3.9,>=0.3.0 (from datasets)\n",
      "  Downloading dill-0.3.8-py3-none-any.whl.metadata (10 kB)\n",
      "Requirement already satisfied: pandas in /usr/local/lib/python3.11/dist-packages (from datasets) (2.2.2)\n",
      "Requirement already satisfied: requests>=2.32.2 in /usr/local/lib/python3.11/dist-packages (from datasets) (2.32.3)\n",
      "Requirement already satisfied: tqdm>=4.66.3 in /usr/local/lib/python3.11/dist-packages (from datasets) (4.67.1)\n",
      "Collecting xxhash (from datasets)\n",
      "  Downloading xxhash-3.5.0-cp311-cp311-manylinux_2_17_x86_64.manylinux2014_x86_64.whl.metadata (12 kB)\n",
      "Collecting multiprocess<0.70.17 (from datasets)\n",
      "  Downloading multiprocess-0.70.16-py311-none-any.whl.metadata (7.2 kB)\n",
      "Collecting fsspec<=2024.12.0,>=2023.1.0 (from fsspec[http]<=2024.12.0,>=2023.1.0->datasets)\n",
      "  Downloading fsspec-2024.12.0-py3-none-any.whl.metadata (11 kB)\n",
      "Requirement already satisfied: aiohttp in /usr/local/lib/python3.11/dist-packages (from datasets) (3.11.15)\n",
      "Requirement already satisfied: huggingface-hub>=0.24.0 in /usr/local/lib/python3.11/dist-packages (from datasets) (0.30.1)\n",
      "Requirement already satisfied: packaging in /usr/local/lib/python3.11/dist-packages (from datasets) (24.2)\n",
      "Requirement already satisfied: pyyaml>=5.1 in /usr/local/lib/python3.11/dist-packages (from datasets) (6.0.2)\n",
      "Requirement already satisfied: aiohappyeyeballs>=2.3.0 in /usr/local/lib/python3.11/dist-packages (from aiohttp->datasets) (2.6.1)\n",
      "Requirement already satisfied: aiosignal>=1.1.2 in /usr/local/lib/python3.11/dist-packages (from aiohttp->datasets) (1.3.2)\n",
      "Requirement already satisfied: attrs>=17.3.0 in /usr/local/lib/python3.11/dist-packages (from aiohttp->datasets) (25.3.0)\n",
      "Requirement already satisfied: frozenlist>=1.1.1 in /usr/local/lib/python3.11/dist-packages (from aiohttp->datasets) (1.5.0)\n",
      "Requirement already satisfied: multidict<7.0,>=4.5 in /usr/local/lib/python3.11/dist-packages (from aiohttp->datasets) (6.3.1)\n",
      "Requirement already satisfied: propcache>=0.2.0 in /usr/local/lib/python3.11/dist-packages (from aiohttp->datasets) (0.3.1)\n",
      "Requirement already satisfied: yarl<2.0,>=1.17.0 in /usr/local/lib/python3.11/dist-packages (from aiohttp->datasets) (1.18.3)\n",
      "Requirement already satisfied: typing-extensions>=3.7.4.3 in /usr/local/lib/python3.11/dist-packages (from huggingface-hub>=0.24.0->datasets) (4.13.0)\n",
      "Requirement already satisfied: charset-normalizer<4,>=2 in /usr/local/lib/python3.11/dist-packages (from requests>=2.32.2->datasets) (3.4.1)\n",
      "Requirement already satisfied: idna<4,>=2.5 in /usr/local/lib/python3.11/dist-packages (from requests>=2.32.2->datasets) (3.10)\n",
      "Requirement already satisfied: urllib3<3,>=1.21.1 in /usr/local/lib/python3.11/dist-packages (from requests>=2.32.2->datasets) (2.3.0)\n",
      "Requirement already satisfied: certifi>=2017.4.17 in /usr/local/lib/python3.11/dist-packages (from requests>=2.32.2->datasets) (2025.1.31)\n",
      "Requirement already satisfied: python-dateutil>=2.8.2 in /usr/local/lib/python3.11/dist-packages (from pandas->datasets) (2.8.2)\n",
      "Requirement already satisfied: pytz>=2020.1 in /usr/local/lib/python3.11/dist-packages (from pandas->datasets) (2025.2)\n",
      "Requirement already satisfied: tzdata>=2022.7 in /usr/local/lib/python3.11/dist-packages (from pandas->datasets) (2025.2)\n",
      "Requirement already satisfied: six>=1.5 in /usr/local/lib/python3.11/dist-packages (from python-dateutil>=2.8.2->pandas->datasets) (1.17.0)\n",
      "Downloading datasets-3.5.0-py3-none-any.whl (491 kB)\n",
      "\u001b[2K   \u001b[90m━━━━━━━━━━━━━━━━━━━━━━━━━━━━━━━━━━━━━━━━\u001b[0m \u001b[32m491.2/491.2 kB\u001b[0m \u001b[31m7.9 MB/s\u001b[0m eta \u001b[36m0:00:00\u001b[0m\n",
      "\u001b[?25hDownloading dill-0.3.8-py3-none-any.whl (116 kB)\n",
      "\u001b[2K   \u001b[90m━━━━━━━━━━━━━━━━━━━━━━━━━━━━━━━━━━━━━━━━\u001b[0m \u001b[32m116.3/116.3 kB\u001b[0m \u001b[31m12.1 MB/s\u001b[0m eta \u001b[36m0:00:00\u001b[0m\n",
      "\u001b[?25hDownloading fsspec-2024.12.0-py3-none-any.whl (183 kB)\n",
      "\u001b[2K   \u001b[90m━━━━━━━━━━━━━━━━━━━━━━━━━━━━━━━━━━━━━━━━\u001b[0m \u001b[32m183.9/183.9 kB\u001b[0m \u001b[31m17.2 MB/s\u001b[0m eta \u001b[36m0:00:00\u001b[0m\n",
      "\u001b[?25hDownloading multiprocess-0.70.16-py311-none-any.whl (143 kB)\n",
      "\u001b[2K   \u001b[90m━━━━━━━━━━━━━━━━━━━━━━━━━━━━━━━━━━━━━━━━\u001b[0m \u001b[32m143.5/143.5 kB\u001b[0m \u001b[31m13.0 MB/s\u001b[0m eta \u001b[36m0:00:00\u001b[0m\n",
      "\u001b[?25hDownloading xxhash-3.5.0-cp311-cp311-manylinux_2_17_x86_64.manylinux2014_x86_64.whl (194 kB)\n",
      "\u001b[2K   \u001b[90m━━━━━━━━━━━━━━━━━━━━━━━━━━━━━━━━━━━━━━━━\u001b[0m \u001b[32m194.8/194.8 kB\u001b[0m \u001b[31m20.4 MB/s\u001b[0m eta \u001b[36m0:00:00\u001b[0m\n",
      "\u001b[?25hInstalling collected packages: xxhash, fsspec, dill, multiprocess, datasets\n",
      "  Attempting uninstall: fsspec\n",
      "    Found existing installation: fsspec 2025.3.2\n",
      "    Uninstalling fsspec-2025.3.2:\n",
      "      Successfully uninstalled fsspec-2025.3.2\n",
      "\u001b[31mERROR: pip's dependency resolver does not currently take into account all the packages that are installed. This behaviour is the source of the following dependency conflicts.\n",
      "torch 2.6.0+cu124 requires nvidia-cublas-cu12==12.4.5.8; platform_system == \"Linux\" and platform_machine == \"x86_64\", but you have nvidia-cublas-cu12 12.5.3.2 which is incompatible.\n",
      "torch 2.6.0+cu124 requires nvidia-cuda-cupti-cu12==12.4.127; platform_system == \"Linux\" and platform_machine == \"x86_64\", but you have nvidia-cuda-cupti-cu12 12.5.82 which is incompatible.\n",
      "torch 2.6.0+cu124 requires nvidia-cuda-nvrtc-cu12==12.4.127; platform_system == \"Linux\" and platform_machine == \"x86_64\", but you have nvidia-cuda-nvrtc-cu12 12.5.82 which is incompatible.\n",
      "torch 2.6.0+cu124 requires nvidia-cuda-runtime-cu12==12.4.127; platform_system == \"Linux\" and platform_machine == \"x86_64\", but you have nvidia-cuda-runtime-cu12 12.5.82 which is incompatible.\n",
      "torch 2.6.0+cu124 requires nvidia-cudnn-cu12==9.1.0.70; platform_system == \"Linux\" and platform_machine == \"x86_64\", but you have nvidia-cudnn-cu12 9.3.0.75 which is incompatible.\n",
      "torch 2.6.0+cu124 requires nvidia-cufft-cu12==11.2.1.3; platform_system == \"Linux\" and platform_machine == \"x86_64\", but you have nvidia-cufft-cu12 11.2.3.61 which is incompatible.\n",
      "torch 2.6.0+cu124 requires nvidia-curand-cu12==10.3.5.147; platform_system == \"Linux\" and platform_machine == \"x86_64\", but you have nvidia-curand-cu12 10.3.6.82 which is incompatible.\n",
      "torch 2.6.0+cu124 requires nvidia-cusolver-cu12==11.6.1.9; platform_system == \"Linux\" and platform_machine == \"x86_64\", but you have nvidia-cusolver-cu12 11.6.3.83 which is incompatible.\n",
      "torch 2.6.0+cu124 requires nvidia-cusparse-cu12==12.3.1.170; platform_system == \"Linux\" and platform_machine == \"x86_64\", but you have nvidia-cusparse-cu12 12.5.1.3 which is incompatible.\n",
      "torch 2.6.0+cu124 requires nvidia-nvjitlink-cu12==12.4.127; platform_system == \"Linux\" and platform_machine == \"x86_64\", but you have nvidia-nvjitlink-cu12 12.5.82 which is incompatible.\n",
      "gcsfs 2025.3.2 requires fsspec==2025.3.2, but you have fsspec 2024.12.0 which is incompatible.\u001b[0m\u001b[31m\n",
      "\u001b[0mSuccessfully installed datasets-3.5.0 dill-0.3.8 fsspec-2024.12.0 multiprocess-0.70.16 xxhash-3.5.0\n"
     ]
    }
   ],
   "source": [
    "!pip install datasets"
   ]
  },
  {
   "cell_type": "code",
   "execution_count": 2,
   "metadata": {
    "colab": {
     "base_uri": "https://localhost:8080/"
    },
    "id": "KF47yqupJk6_",
    "outputId": "022a9bfb-1330-4514-a59e-c23b3a2f74d9"
   },
   "outputs": [
    {
     "name": "stdout",
     "output_type": "stream",
     "text": [
      "Requirement already satisfied: sentence-transformers in /usr/local/lib/python3.11/dist-packages (3.4.1)\n",
      "Requirement already satisfied: transformers<5.0.0,>=4.41.0 in /usr/local/lib/python3.11/dist-packages (from sentence-transformers) (4.50.3)\n",
      "Requirement already satisfied: tqdm in /usr/local/lib/python3.11/dist-packages (from sentence-transformers) (4.67.1)\n",
      "Requirement already satisfied: torch>=1.11.0 in /usr/local/lib/python3.11/dist-packages (from sentence-transformers) (2.6.0+cu124)\n",
      "Requirement already satisfied: scikit-learn in /usr/local/lib/python3.11/dist-packages (from sentence-transformers) (1.6.1)\n",
      "Requirement already satisfied: scipy in /usr/local/lib/python3.11/dist-packages (from sentence-transformers) (1.14.1)\n",
      "Requirement already satisfied: huggingface-hub>=0.20.0 in /usr/local/lib/python3.11/dist-packages (from sentence-transformers) (0.30.1)\n",
      "Requirement already satisfied: Pillow in /usr/local/lib/python3.11/dist-packages (from sentence-transformers) (11.1.0)\n",
      "Requirement already satisfied: filelock in /usr/local/lib/python3.11/dist-packages (from huggingface-hub>=0.20.0->sentence-transformers) (3.18.0)\n",
      "Requirement already satisfied: fsspec>=2023.5.0 in /usr/local/lib/python3.11/dist-packages (from huggingface-hub>=0.20.0->sentence-transformers) (2024.12.0)\n",
      "Requirement already satisfied: packaging>=20.9 in /usr/local/lib/python3.11/dist-packages (from huggingface-hub>=0.20.0->sentence-transformers) (24.2)\n",
      "Requirement already satisfied: pyyaml>=5.1 in /usr/local/lib/python3.11/dist-packages (from huggingface-hub>=0.20.0->sentence-transformers) (6.0.2)\n",
      "Requirement already satisfied: requests in /usr/local/lib/python3.11/dist-packages (from huggingface-hub>=0.20.0->sentence-transformers) (2.32.3)\n",
      "Requirement already satisfied: typing-extensions>=3.7.4.3 in /usr/local/lib/python3.11/dist-packages (from huggingface-hub>=0.20.0->sentence-transformers) (4.13.0)\n",
      "Requirement already satisfied: networkx in /usr/local/lib/python3.11/dist-packages (from torch>=1.11.0->sentence-transformers) (3.4.2)\n",
      "Requirement already satisfied: jinja2 in /usr/local/lib/python3.11/dist-packages (from torch>=1.11.0->sentence-transformers) (3.1.6)\n",
      "Collecting nvidia-cuda-nvrtc-cu12==12.4.127 (from torch>=1.11.0->sentence-transformers)\n",
      "  Downloading nvidia_cuda_nvrtc_cu12-12.4.127-py3-none-manylinux2014_x86_64.whl.metadata (1.5 kB)\n",
      "Collecting nvidia-cuda-runtime-cu12==12.4.127 (from torch>=1.11.0->sentence-transformers)\n",
      "  Downloading nvidia_cuda_runtime_cu12-12.4.127-py3-none-manylinux2014_x86_64.whl.metadata (1.5 kB)\n",
      "Collecting nvidia-cuda-cupti-cu12==12.4.127 (from torch>=1.11.0->sentence-transformers)\n",
      "  Downloading nvidia_cuda_cupti_cu12-12.4.127-py3-none-manylinux2014_x86_64.whl.metadata (1.6 kB)\n",
      "Collecting nvidia-cudnn-cu12==9.1.0.70 (from torch>=1.11.0->sentence-transformers)\n",
      "  Downloading nvidia_cudnn_cu12-9.1.0.70-py3-none-manylinux2014_x86_64.whl.metadata (1.6 kB)\n",
      "Collecting nvidia-cublas-cu12==12.4.5.8 (from torch>=1.11.0->sentence-transformers)\n",
      "  Downloading nvidia_cublas_cu12-12.4.5.8-py3-none-manylinux2014_x86_64.whl.metadata (1.5 kB)\n",
      "Collecting nvidia-cufft-cu12==11.2.1.3 (from torch>=1.11.0->sentence-transformers)\n",
      "  Downloading nvidia_cufft_cu12-11.2.1.3-py3-none-manylinux2014_x86_64.whl.metadata (1.5 kB)\n",
      "Collecting nvidia-curand-cu12==10.3.5.147 (from torch>=1.11.0->sentence-transformers)\n",
      "  Downloading nvidia_curand_cu12-10.3.5.147-py3-none-manylinux2014_x86_64.whl.metadata (1.5 kB)\n",
      "Collecting nvidia-cusolver-cu12==11.6.1.9 (from torch>=1.11.0->sentence-transformers)\n",
      "  Downloading nvidia_cusolver_cu12-11.6.1.9-py3-none-manylinux2014_x86_64.whl.metadata (1.6 kB)\n",
      "Collecting nvidia-cusparse-cu12==12.3.1.170 (from torch>=1.11.0->sentence-transformers)\n",
      "  Downloading nvidia_cusparse_cu12-12.3.1.170-py3-none-manylinux2014_x86_64.whl.metadata (1.6 kB)\n",
      "Requirement already satisfied: nvidia-cusparselt-cu12==0.6.2 in /usr/local/lib/python3.11/dist-packages (from torch>=1.11.0->sentence-transformers) (0.6.2)\n",
      "Requirement already satisfied: nvidia-nccl-cu12==2.21.5 in /usr/local/lib/python3.11/dist-packages (from torch>=1.11.0->sentence-transformers) (2.21.5)\n",
      "Requirement already satisfied: nvidia-nvtx-cu12==12.4.127 in /usr/local/lib/python3.11/dist-packages (from torch>=1.11.0->sentence-transformers) (12.4.127)\n",
      "Collecting nvidia-nvjitlink-cu12==12.4.127 (from torch>=1.11.0->sentence-transformers)\n",
      "  Downloading nvidia_nvjitlink_cu12-12.4.127-py3-none-manylinux2014_x86_64.whl.metadata (1.5 kB)\n",
      "Requirement already satisfied: triton==3.2.0 in /usr/local/lib/python3.11/dist-packages (from torch>=1.11.0->sentence-transformers) (3.2.0)\n",
      "Requirement already satisfied: sympy==1.13.1 in /usr/local/lib/python3.11/dist-packages (from torch>=1.11.0->sentence-transformers) (1.13.1)\n",
      "Requirement already satisfied: mpmath<1.4,>=1.1.0 in /usr/local/lib/python3.11/dist-packages (from sympy==1.13.1->torch>=1.11.0->sentence-transformers) (1.3.0)\n",
      "Requirement already satisfied: numpy>=1.17 in /usr/local/lib/python3.11/dist-packages (from transformers<5.0.0,>=4.41.0->sentence-transformers) (2.0.2)\n",
      "Requirement already satisfied: regex!=2019.12.17 in /usr/local/lib/python3.11/dist-packages (from transformers<5.0.0,>=4.41.0->sentence-transformers) (2024.11.6)\n",
      "Requirement already satisfied: tokenizers<0.22,>=0.21 in /usr/local/lib/python3.11/dist-packages (from transformers<5.0.0,>=4.41.0->sentence-transformers) (0.21.1)\n",
      "Requirement already satisfied: safetensors>=0.4.3 in /usr/local/lib/python3.11/dist-packages (from transformers<5.0.0,>=4.41.0->sentence-transformers) (0.5.3)\n",
      "Requirement already satisfied: joblib>=1.2.0 in /usr/local/lib/python3.11/dist-packages (from scikit-learn->sentence-transformers) (1.4.2)\n",
      "Requirement already satisfied: threadpoolctl>=3.1.0 in /usr/local/lib/python3.11/dist-packages (from scikit-learn->sentence-transformers) (3.6.0)\n",
      "Requirement already satisfied: MarkupSafe>=2.0 in /usr/local/lib/python3.11/dist-packages (from jinja2->torch>=1.11.0->sentence-transformers) (3.0.2)\n",
      "Requirement already satisfied: charset-normalizer<4,>=2 in /usr/local/lib/python3.11/dist-packages (from requests->huggingface-hub>=0.20.0->sentence-transformers) (3.4.1)\n",
      "Requirement already satisfied: idna<4,>=2.5 in /usr/local/lib/python3.11/dist-packages (from requests->huggingface-hub>=0.20.0->sentence-transformers) (3.10)\n",
      "Requirement already satisfied: urllib3<3,>=1.21.1 in /usr/local/lib/python3.11/dist-packages (from requests->huggingface-hub>=0.20.0->sentence-transformers) (2.3.0)\n",
      "Requirement already satisfied: certifi>=2017.4.17 in /usr/local/lib/python3.11/dist-packages (from requests->huggingface-hub>=0.20.0->sentence-transformers) (2025.1.31)\n",
      "Downloading nvidia_cublas_cu12-12.4.5.8-py3-none-manylinux2014_x86_64.whl (363.4 MB)\n",
      "\u001b[2K   \u001b[90m━━━━━━━━━━━━━━━━━━━━━━━━━━━━━━━━━━━━━━━━\u001b[0m \u001b[32m363.4/363.4 MB\u001b[0m \u001b[31m3.2 MB/s\u001b[0m eta \u001b[36m0:00:00\u001b[0m\n",
      "\u001b[?25hDownloading nvidia_cuda_cupti_cu12-12.4.127-py3-none-manylinux2014_x86_64.whl (13.8 MB)\n",
      "\u001b[2K   \u001b[90m━━━━━━━━━━━━━━━━━━━━━━━━━━━━━━━━━━━━━━━━\u001b[0m \u001b[32m13.8/13.8 MB\u001b[0m \u001b[31m86.1 MB/s\u001b[0m eta \u001b[36m0:00:00\u001b[0m\n",
      "\u001b[?25hDownloading nvidia_cuda_nvrtc_cu12-12.4.127-py3-none-manylinux2014_x86_64.whl (24.6 MB)\n",
      "\u001b[2K   \u001b[90m━━━━━━━━━━━━━━━━━━━━━━━━━━━━━━━━━━━━━━━━\u001b[0m \u001b[32m24.6/24.6 MB\u001b[0m \u001b[31m73.7 MB/s\u001b[0m eta \u001b[36m0:00:00\u001b[0m\n",
      "\u001b[?25hDownloading nvidia_cuda_runtime_cu12-12.4.127-py3-none-manylinux2014_x86_64.whl (883 kB)\n",
      "\u001b[2K   \u001b[90m━━━━━━━━━━━━━━━━━━━━━━━━━━━━━━━━━━━━━━━━\u001b[0m \u001b[32m883.7/883.7 kB\u001b[0m \u001b[31m48.4 MB/s\u001b[0m eta \u001b[36m0:00:00\u001b[0m\n",
      "\u001b[?25hDownloading nvidia_cudnn_cu12-9.1.0.70-py3-none-manylinux2014_x86_64.whl (664.8 MB)\n",
      "\u001b[2K   \u001b[90m━━━━━━━━━━━━━━━━━━━━━━━━━━━━━━━━━━━━━━━━\u001b[0m \u001b[32m664.8/664.8 MB\u001b[0m \u001b[31m2.3 MB/s\u001b[0m eta \u001b[36m0:00:00\u001b[0m\n",
      "\u001b[?25hDownloading nvidia_cufft_cu12-11.2.1.3-py3-none-manylinux2014_x86_64.whl (211.5 MB)\n",
      "\u001b[2K   \u001b[90m━━━━━━━━━━━━━━━━━━━━━━━━━━━━━━━━━━━━━━━━\u001b[0m \u001b[32m211.5/211.5 MB\u001b[0m \u001b[31m4.6 MB/s\u001b[0m eta \u001b[36m0:00:00\u001b[0m\n",
      "\u001b[?25hDownloading nvidia_curand_cu12-10.3.5.147-py3-none-manylinux2014_x86_64.whl (56.3 MB)\n",
      "\u001b[2K   \u001b[90m━━━━━━━━━━━━━━━━━━━━━━━━━━━━━━━━━━━━━━━━\u001b[0m \u001b[32m56.3/56.3 MB\u001b[0m \u001b[31m41.3 MB/s\u001b[0m eta \u001b[36m0:00:00\u001b[0m\n",
      "\u001b[?25hDownloading nvidia_cusolver_cu12-11.6.1.9-py3-none-manylinux2014_x86_64.whl (127.9 MB)\n",
      "\u001b[2K   \u001b[90m━━━━━━━━━━━━━━━━━━━━━━━━━━━━━━━━━━━━━━━━\u001b[0m \u001b[32m127.9/127.9 MB\u001b[0m \u001b[31m18.6 MB/s\u001b[0m eta \u001b[36m0:00:00\u001b[0m\n",
      "\u001b[?25hDownloading nvidia_cusparse_cu12-12.3.1.170-py3-none-manylinux2014_x86_64.whl (207.5 MB)\n",
      "\u001b[2K   \u001b[90m━━━━━━━━━━━━━━━━━━━━━━━━━━━━━━━━━━━━━━━━\u001b[0m \u001b[32m207.5/207.5 MB\u001b[0m \u001b[31m4.2 MB/s\u001b[0m eta \u001b[36m0:00:00\u001b[0m\n",
      "\u001b[?25hDownloading nvidia_nvjitlink_cu12-12.4.127-py3-none-manylinux2014_x86_64.whl (21.1 MB)\n",
      "\u001b[2K   \u001b[90m━━━━━━━━━━━━━━━━━━━━━━━━━━━━━━━━━━━━━━━━\u001b[0m \u001b[32m21.1/21.1 MB\u001b[0m \u001b[31m89.9 MB/s\u001b[0m eta \u001b[36m0:00:00\u001b[0m\n",
      "\u001b[?25hInstalling collected packages: nvidia-nvjitlink-cu12, nvidia-curand-cu12, nvidia-cufft-cu12, nvidia-cuda-runtime-cu12, nvidia-cuda-nvrtc-cu12, nvidia-cuda-cupti-cu12, nvidia-cublas-cu12, nvidia-cusparse-cu12, nvidia-cudnn-cu12, nvidia-cusolver-cu12\n",
      "  Attempting uninstall: nvidia-nvjitlink-cu12\n",
      "    Found existing installation: nvidia-nvjitlink-cu12 12.5.82\n",
      "    Uninstalling nvidia-nvjitlink-cu12-12.5.82:\n",
      "      Successfully uninstalled nvidia-nvjitlink-cu12-12.5.82\n",
      "  Attempting uninstall: nvidia-curand-cu12\n",
      "    Found existing installation: nvidia-curand-cu12 10.3.6.82\n",
      "    Uninstalling nvidia-curand-cu12-10.3.6.82:\n",
      "      Successfully uninstalled nvidia-curand-cu12-10.3.6.82\n",
      "  Attempting uninstall: nvidia-cufft-cu12\n",
      "    Found existing installation: nvidia-cufft-cu12 11.2.3.61\n",
      "    Uninstalling nvidia-cufft-cu12-11.2.3.61:\n",
      "      Successfully uninstalled nvidia-cufft-cu12-11.2.3.61\n",
      "  Attempting uninstall: nvidia-cuda-runtime-cu12\n",
      "    Found existing installation: nvidia-cuda-runtime-cu12 12.5.82\n",
      "    Uninstalling nvidia-cuda-runtime-cu12-12.5.82:\n",
      "      Successfully uninstalled nvidia-cuda-runtime-cu12-12.5.82\n",
      "  Attempting uninstall: nvidia-cuda-nvrtc-cu12\n",
      "    Found existing installation: nvidia-cuda-nvrtc-cu12 12.5.82\n",
      "    Uninstalling nvidia-cuda-nvrtc-cu12-12.5.82:\n",
      "      Successfully uninstalled nvidia-cuda-nvrtc-cu12-12.5.82\n",
      "  Attempting uninstall: nvidia-cuda-cupti-cu12\n",
      "    Found existing installation: nvidia-cuda-cupti-cu12 12.5.82\n",
      "    Uninstalling nvidia-cuda-cupti-cu12-12.5.82:\n",
      "      Successfully uninstalled nvidia-cuda-cupti-cu12-12.5.82\n",
      "  Attempting uninstall: nvidia-cublas-cu12\n",
      "    Found existing installation: nvidia-cublas-cu12 12.5.3.2\n",
      "    Uninstalling nvidia-cublas-cu12-12.5.3.2:\n",
      "      Successfully uninstalled nvidia-cublas-cu12-12.5.3.2\n",
      "  Attempting uninstall: nvidia-cusparse-cu12\n",
      "    Found existing installation: nvidia-cusparse-cu12 12.5.1.3\n",
      "    Uninstalling nvidia-cusparse-cu12-12.5.1.3:\n",
      "      Successfully uninstalled nvidia-cusparse-cu12-12.5.1.3\n",
      "  Attempting uninstall: nvidia-cudnn-cu12\n",
      "    Found existing installation: nvidia-cudnn-cu12 9.3.0.75\n",
      "    Uninstalling nvidia-cudnn-cu12-9.3.0.75:\n",
      "      Successfully uninstalled nvidia-cudnn-cu12-9.3.0.75\n",
      "  Attempting uninstall: nvidia-cusolver-cu12\n",
      "    Found existing installation: nvidia-cusolver-cu12 11.6.3.83\n",
      "    Uninstalling nvidia-cusolver-cu12-11.6.3.83:\n",
      "      Successfully uninstalled nvidia-cusolver-cu12-11.6.3.83\n",
      "Successfully installed nvidia-cublas-cu12-12.4.5.8 nvidia-cuda-cupti-cu12-12.4.127 nvidia-cuda-nvrtc-cu12-12.4.127 nvidia-cuda-runtime-cu12-12.4.127 nvidia-cudnn-cu12-9.1.0.70 nvidia-cufft-cu12-11.2.1.3 nvidia-curand-cu12-10.3.5.147 nvidia-cusolver-cu12-11.6.1.9 nvidia-cusparse-cu12-12.3.1.170 nvidia-nvjitlink-cu12-12.4.127\n"
     ]
    }
   ],
   "source": [
    "!pip install sentence-transformers"
   ]
  },
  {
   "cell_type": "code",
   "execution_count": 3,
   "metadata": {
    "id": "AFn1LOanW_eO"
   },
   "outputs": [],
   "source": [
    "import pandas as pd\n",
    "import numpy as np\n",
    "import torch\n",
    "import torch.nn as nn\n",
    "import torch.nn.functional as F\n",
    "import torch.optim as optim\n",
    "from torch.utils.data import Dataset, DataLoader\n",
    "from sentence_transformers import SentenceTransformer\n",
    "from datasets import load_dataset, concatenate_datasets\n",
    "from sklearn.cluster import KMeans\n",
    "from tqdm import tqdm\n",
    "import matplotlib.pyplot as plt\n",
    "import random\n",
    "from scipy.stats import entropy\n",
    "# 디바이스 설정\n",
    "device = torch.device('cuda' if torch.cuda.is_available() else 'cpu')"
   ]
  },
  {
   "cell_type": "code",
   "execution_count": 4,
   "metadata": {
    "colab": {
     "base_uri": "https://localhost:8080/",
     "height": 763,
     "referenced_widgets": [
      "288d0886c0c44c0fac8b63a1461206c3",
      "456d1ab4777c4b4cb5fec4871e0ec117",
      "212dc87f79044cf4bd70b82e5bd28760",
      "9a47dba38d3d461a9cf96d8e670974ea",
      "2d010c8d36b54c83b50b7ea9c66b1945",
      "25f8b9599fb9464e82b1671c49deed1c",
      "3741c37203ca4575a1926c067c17ffdf",
      "4eaf58cc46a44012934660d3366913e2",
      "b8f7fd6537a84af190e87ec95ffbec7e",
      "c271d2639f644b6b8f954c2e8b3e8408",
      "9f627ef46f6742e7ae2384aee3a9e0ca",
      "51ce92d1fee246978994219348264043",
      "00fd588f6b55414a83914371deedfd6d",
      "04b69666e9a04cba98f1cbc0f27232b2",
      "85a91c82c8d74790a9dcab7feb30b729",
      "71d63bfb1dee4a8eb89711b5cff63c89",
      "0ea33b9c2b1245b1b080878f11eade8e",
      "d6de63a3c1dc45b49a3b14baa07e3e7e",
      "eb1194c30fff464d87b801898bfbace0",
      "c9852d2c46bf4645bc6e739f926ad488",
      "7fec0c171bc144c789ae46bbbc9972ac",
      "e19e9a9b48194cb3967d9f6638701609",
      "46366f04314d480a93102147fe1f321f",
      "65a9ce0febc84729981f013b70d44366",
      "80542d8ab0ef46bfa43adde37b9f40c3",
      "021b588f53774c2e90af7444084a4dd6",
      "b3d40295fa8b4565948051fce0185610",
      "e6096ce8f0ed403db99baada1f94f0a7",
      "1ac6bb0d2744463da3da2e793a8431ed",
      "167d108491db428084bb9a5cca0672c3",
      "7f7088573fa94b4a9a0d0dcf290a108e",
      "5dfc8041a88048ad80171c5dcf626bf7",
      "c923bec9ae704d31a085a12bfc4e47a3",
      "f2c6b494439845a5b20c4430fcbfb595",
      "24a8cf895b4b47e094b09491d5f029c1",
      "24f8d063928247a6bbb827de2367d0e5",
      "330471c92f4847648d4661e0fe0570c9",
      "9dac3057fb644002b79a8dfdc925de64",
      "bb16ac750d2748df927823d3bc1639be",
      "31294f6e07224c658ac5bfc8bd902c3b",
      "6a71aaa2fdb4420fa6e762adeeeb1f0a",
      "75b27e0a93444e419e7bde48c9739a98",
      "daddb002fc8b47f79e18aa7231d3b2b9",
      "ec3cc2cc3828441eb139502e7826da60",
      "3ea9801adb4842faa75614e012425fd4",
      "e65cdc911d2e4044ab729f8cdc01d577",
      "058cda01c83745d2b509425b30c0eaa8",
      "5b4275863e0f4554bdb68f6e9a2cf296",
      "361de3a6210c4a98bdbc156b0038aaaa",
      "06ff9dc31370460eb410636911ed80a3",
      "5739192fac794116961aeb04651606fd",
      "f5e96a09dece46c1894890d867dfd654",
      "07668591fb7a44e4a271eab877a42141",
      "7ba75f6cea254bef95987b93710fc879",
      "a9080cf1be7442548fee109afcd6c706",
      "933cea0e78424b6e98915d0a3e3f6bb7",
      "c7f5a59cf93c4bdab9ffd770a5c5110f",
      "b0a08b7bb44a47a391dd2577392eef1b",
      "2d3a7c6c883647d88d752e31d1225b47",
      "46cc795f32e3463a889df1270a37ce43",
      "55237ca5b20e418a805ea9bf32d31abb",
      "228f0e5efc504f86ac50c13a84837272",
      "9c0a452802b34f9cba2e0018649f52fb",
      "60279dc4599a4cffb78ff5d2e6295385",
      "2df9ff99be9d479a9d6c131b96264083",
      "f425662350d0468e883568ab97959d9a",
      "589d9d98254c47429bbf805ef1d70b79",
      "d4520d11a9674d3eb5746490007c9dc9",
      "6f133ab9d10e4e39ba3c77e214387ae9",
      "13127d934d9848cfbee0d37378e80c7a",
      "dd165ffe9f05428db134b3a68abf05e8",
      "3fecb97f29a44143be7d56f43faa827d",
      "a1752336f5d646cd8318336d3eafdeca",
      "f659e5d39f4443af84e0670f5af3c0c8",
      "f72be171997140f382e11dc0d78563c5",
      "602da3dea49a4719b0fe18dbf8e09eeb",
      "519465da5d544c19ae687aea3df32112",
      "d54eee85c7334d05a65cd210f464ebfc",
      "a5eb8e1cc2174e098ff4cfa52eac39ce",
      "faeac55f4a3a4d14974d014c99e7c53f",
      "554cfdc680e14f5fa2a2dc2f939f2d07",
      "c380d496be1145a2a33ed9e6caed4eff",
      "40443f4208484e308072f032fe37cc1e",
      "e2fd56b320ba49cdaa4f14da449d0081",
      "390bc3f93c7840248c2f143eeb1b4327",
      "687951cfd61c4a2a97f9b645fe3d9617",
      "80329dd2a5c9451eb65ab9a30e9bdbd0",
      "23dffea7e4334cc380a3da32d45cb725",
      "3fd90d616f64490f8ba91008c61a6509",
      "821fd02273694663acca4883a4126683",
      "cf08d1324ff14a93b6d4d5bfaa81dec9",
      "3a05667c172044ffb63e96d11ada8976",
      "acae3fe587bd438a98a7d692d10e5a9c",
      "6cb2ee80e90b4d10ba49a10d3ba75d4e",
      "ae2af0618b9443488134067ab5bb1b1c",
      "7f63ee8fab0942788322c6107959a616",
      "f60689598e5d46449bcfa2caaa990db0",
      "a86d0708379140ca98c1cd1c8cdf9ea0",
      "0b1af6cbead847758d8ebc68ecac580f",
      "42cdae17fef749f5a50f97648960d774",
      "c890307e037c403a8cffcbc88eec846d",
      "32429c6d9efb423e924a5ad8846eac26",
      "acf2c45298374562adbcbe99e313a1f9",
      "b08d4632c9494eb5811aae7290303cfa",
      "50b0dae5fca34be7913d53d5b364bc70",
      "3734a2fe17a649a19b48f4e21083a73d",
      "e39a7e31393249388e468376446d7c9c",
      "cef8ab6c38f340c1956a0b1bbee9167c",
      "b28ad515dc934553b688386f03a4086b",
      "92422b2040a440c79b6c0bcfd6679730",
      "036bdc341f4540ef823027be08910dc3",
      "3fcfd8f61aff49a68bbdbbf6930a4480",
      "0461386a083a44c7a40964d6d098a6e4",
      "54844dc02fbc4b11aa905b70449d748a",
      "ead326a5a483401591f2302c82f83020",
      "96bac5cb87fc4a20b1b8e8bb4c76eb29",
      "276b87b8d5d04770a81c0391998540b0",
      "01ee60cc29b94721aec9b71302fc83c2",
      "3c741f51ea9d4bbba6b0d9df538ef3ca",
      "9aec21e44d7843b1a600fd4a9827a9ae",
      "c1375a7e4bda4e2aa6321cf02b7b373d",
      "b4d401824ece46f996a85293a282f896",
      "a4a1183a172346d9ac2149c74392312e",
      "dfb3c17de102477baa8d8f2abd687cd9",
      "41c1ce736e24404eadd4e41a9ca8bdc4",
      "e5ae63fb681b49daa654b81f68fad0e4",
      "2ff5cf56010a4ad2b88670f422762ea6",
      "9c88a91b67934cbe9b048f2bd563bcf5",
      "e02bded78f3149038099c3207b2a9e08",
      "5e3265bf8962462dbe5bd08fae6d363b",
      "fa9d750860d041f1a6b36510981dfe10",
      "3f442f72af064478a2c35c7d9961541c",
      "a1a88332ebf9437ba64acba21a57d21d",
      "f72be947d50c4272aaeb6e751b3f26eb",
      "1c9dcf0235694ed3998a441bd3f97197",
      "ed7865553eb149a3b8b5632bd3325c38",
      "eb59a03661f548b5a5d6505711d51b35",
      "948938afd1ef42e18bb0c82eec5e7e1b",
      "da872f4d813b4a2d9eb7194fdbaa2eab",
      "f836d3c102e042728a1f00abcdc24f08",
      "cb77a1c6f9434a999ca2f67e15283e03",
      "d939c9b3f36b4d23af541b7481b2a6ce",
      "240cb49d522747549cf67c59e2fc9702",
      "051504812fba458298d5076cfd84ed25",
      "d441783a022f4453bd79f5411a2eba0e",
      "a5574fea86fd488fa7542d73b4f0a022",
      "f93cea97235d495d9ec8739bc949e95d",
      "113359272c3b4f6b84d723ab73ed28f9",
      "44cbf927d74748b09f1c5761dfd54817",
      "40c503bb4f93416c8cceb40f5d168bda",
      "1194afda00534383bfbabb48cd9c9f35",
      "46732ee1cb744a24a6eda25eea34f055",
      "37d507cdbfad4e3f898ec5dc28b28e99",
      "f5ef6d22d69d4dcda421f6bc9153494e",
      "1c4c26bd4abb46c4ba1ff503e445baeb",
      "b1c44321f36e414089ac085e6ad4c7ec",
      "f924fb31672d4fb99c9b9d17aa69e1a6",
      "6425ade035ba4ae39c0499dcc95a94e6",
      "964776636c1e4bc997c862788d7adb5c",
      "0e976ea22173493a85909c04cd2e7f7e",
      "b086d26199564c41a70842df8060b373",
      "e6e5248e338e493a8bf2d4b6ea16b640",
      "4a1f62311c1549c0b9d369389defe329",
      "4436fca15cf04b5f96e3556e7115bece",
      "83ae80569acd49dfa4ce6b18dde603ef",
      "d1f11352bfc74719a89a3033141df11f",
      "24a846df1f774ecdaa0c344051673476",
      "b11cd5a7c26b4e399f5ec774eab1539c",
      "838fb7ba379d43408ebc4df01e024ba2",
      "a5bc2cb0226a4b15ac22b6072a893bfa",
      "2f1c88cf75cc4c7e9ea9df5e8d7db5e5",
      "0fa95ff73e5d4008902d4e5b53b548bc",
      "dbb8322334e64d45987d349cd440046a",
      "386f3e1dcae64e31976f8f5b1d22b2da",
      "b7d895af0192470db56d3de21b24b3fc",
      "f7a36d204c6d4855b15a05a1525d2d4e",
      "23222ac2e11748279cd6cd423adcd66d",
      "807d8dcddadf46a89e58910d026b08d5",
      "4930be13dc8a47f9b9bfec837cfc9554",
      "9c7f00ed89fe4f29bb3c708c8146ebbe",
      "1f6f26ad0b3b40c38fb5e66e8e5c1d71",
      "875d3f8f0fe049308868262785f87ae9",
      "6a1eeafff82241d8aa83fbccc3948d51",
      "637f482906204b5cb07845f07944dd69",
      "a1be7067659c4f4ab652e83c02b219db",
      "4f9cdee5d2054316b0936cafdcb89c6c",
      "e6f0031367964af7ac6e7744e6e752b7"
     ]
    },
    "id": "Dv_A8KJOXFvL",
    "outputId": "89e9d548-9455-4064-aed6-7082a2d2b0d7"
   },
   "outputs": [
    {
     "name": "stderr",
     "output_type": "stream",
     "text": [
      "/usr/local/lib/python3.11/dist-packages/huggingface_hub/utils/_auth.py:94: UserWarning: \n",
      "The secret `HF_TOKEN` does not exist in your Colab secrets.\n",
      "To authenticate with the Hugging Face Hub, create a token in your settings tab (https://huggingface.co/settings/tokens), set it as secret in your Google Colab and restart your session.\n",
      "You will be able to reuse this secret in all of your notebooks.\n",
      "Please note that authentication is recommended but still optional to access public models or datasets.\n",
      "  warnings.warn(\n"
     ]
    },
    {
     "data": {
      "application/vnd.jupyter.widget-view+json": {
       "model_id": "288d0886c0c44c0fac8b63a1461206c3",
       "version_major": 2,
       "version_minor": 0
      },
      "text/plain": [
       "README.md:   0%|          | 0.00/7.27k [00:00<?, ?B/s]"
      ]
     },
     "metadata": {},
     "output_type": "display_data"
    },
    {
     "data": {
      "application/vnd.jupyter.widget-view+json": {
       "model_id": "51ce92d1fee246978994219348264043",
       "version_major": 2,
       "version_minor": 0
      },
      "text/plain": [
       "daily_dialog.py:   0%|          | 0.00/4.85k [00:00<?, ?B/s]"
      ]
     },
     "metadata": {},
     "output_type": "display_data"
    },
    {
     "name": "stdout",
     "output_type": "stream",
     "text": [
      "The repository for li2017dailydialog/daily_dialog contains custom code which must be executed to correctly load the dataset. You can inspect the repository content at https://hf.co/datasets/li2017dailydialog/daily_dialog.\n",
      "You can avoid this prompt in future by passing the argument `trust_remote_code=True`.\n",
      "\n",
      "Do you wish to run the custom code? [y/N] y\n"
     ]
    },
    {
     "data": {
      "application/vnd.jupyter.widget-view+json": {
       "model_id": "46366f04314d480a93102147fe1f321f",
       "version_major": 2,
       "version_minor": 0
      },
      "text/plain": [
       "Downloading data:   0%|          | 0.00/4.48M [00:00<?, ?B/s]"
      ]
     },
     "metadata": {},
     "output_type": "display_data"
    },
    {
     "data": {
      "application/vnd.jupyter.widget-view+json": {
       "model_id": "f2c6b494439845a5b20c4430fcbfb595",
       "version_major": 2,
       "version_minor": 0
      },
      "text/plain": [
       "Generating train split:   0%|          | 0/11118 [00:00<?, ? examples/s]"
      ]
     },
     "metadata": {},
     "output_type": "display_data"
    },
    {
     "data": {
      "application/vnd.jupyter.widget-view+json": {
       "model_id": "3ea9801adb4842faa75614e012425fd4",
       "version_major": 2,
       "version_minor": 0
      },
      "text/plain": [
       "Generating validation split:   0%|          | 0/1000 [00:00<?, ? examples/s]"
      ]
     },
     "metadata": {},
     "output_type": "display_data"
    },
    {
     "data": {
      "application/vnd.jupyter.widget-view+json": {
       "model_id": "933cea0e78424b6e98915d0a3e3f6bb7",
       "version_major": 2,
       "version_minor": 0
      },
      "text/plain": [
       "Generating test split:   0%|          | 0/1000 [00:00<?, ? examples/s]"
      ]
     },
     "metadata": {},
     "output_type": "display_data"
    },
    {
     "data": {
      "application/vnd.jupyter.widget-view+json": {
       "model_id": "589d9d98254c47429bbf805ef1d70b79",
       "version_major": 2,
       "version_minor": 0
      },
      "text/plain": [
       "modules.json:   0%|          | 0.00/229 [00:00<?, ?B/s]"
      ]
     },
     "metadata": {},
     "output_type": "display_data"
    },
    {
     "data": {
      "application/vnd.jupyter.widget-view+json": {
       "model_id": "d54eee85c7334d05a65cd210f464ebfc",
       "version_major": 2,
       "version_minor": 0
      },
      "text/plain": [
       "config_sentence_transformers.json:   0%|          | 0.00/122 [00:00<?, ?B/s]"
      ]
     },
     "metadata": {},
     "output_type": "display_data"
    },
    {
     "data": {
      "application/vnd.jupyter.widget-view+json": {
       "model_id": "3fd90d616f64490f8ba91008c61a6509",
       "version_major": 2,
       "version_minor": 0
      },
      "text/plain": [
       "README.md:   0%|          | 0.00/3.51k [00:00<?, ?B/s]"
      ]
     },
     "metadata": {},
     "output_type": "display_data"
    },
    {
     "data": {
      "application/vnd.jupyter.widget-view+json": {
       "model_id": "42cdae17fef749f5a50f97648960d774",
       "version_major": 2,
       "version_minor": 0
      },
      "text/plain": [
       "sentence_bert_config.json:   0%|          | 0.00/53.0 [00:00<?, ?B/s]"
      ]
     },
     "metadata": {},
     "output_type": "display_data"
    },
    {
     "data": {
      "application/vnd.jupyter.widget-view+json": {
       "model_id": "036bdc341f4540ef823027be08910dc3",
       "version_major": 2,
       "version_minor": 0
      },
      "text/plain": [
       "config.json:   0%|          | 0.00/629 [00:00<?, ?B/s]"
      ]
     },
     "metadata": {},
     "output_type": "display_data"
    },
    {
     "data": {
      "application/vnd.jupyter.widget-view+json": {
       "model_id": "b4d401824ece46f996a85293a282f896",
       "version_major": 2,
       "version_minor": 0
      },
      "text/plain": [
       "model.safetensors:   0%|          | 0.00/90.9M [00:00<?, ?B/s]"
      ]
     },
     "metadata": {},
     "output_type": "display_data"
    },
    {
     "data": {
      "application/vnd.jupyter.widget-view+json": {
       "model_id": "a1a88332ebf9437ba64acba21a57d21d",
       "version_major": 2,
       "version_minor": 0
      },
      "text/plain": [
       "tokenizer_config.json:   0%|          | 0.00/314 [00:00<?, ?B/s]"
      ]
     },
     "metadata": {},
     "output_type": "display_data"
    },
    {
     "data": {
      "application/vnd.jupyter.widget-view+json": {
       "model_id": "051504812fba458298d5076cfd84ed25",
       "version_major": 2,
       "version_minor": 0
      },
      "text/plain": [
       "vocab.txt:   0%|          | 0.00/232k [00:00<?, ?B/s]"
      ]
     },
     "metadata": {},
     "output_type": "display_data"
    },
    {
     "data": {
      "application/vnd.jupyter.widget-view+json": {
       "model_id": "1c4c26bd4abb46c4ba1ff503e445baeb",
       "version_major": 2,
       "version_minor": 0
      },
      "text/plain": [
       "tokenizer.json:   0%|          | 0.00/466k [00:00<?, ?B/s]"
      ]
     },
     "metadata": {},
     "output_type": "display_data"
    },
    {
     "data": {
      "application/vnd.jupyter.widget-view+json": {
       "model_id": "d1f11352bfc74719a89a3033141df11f",
       "version_major": 2,
       "version_minor": 0
      },
      "text/plain": [
       "special_tokens_map.json:   0%|          | 0.00/112 [00:00<?, ?B/s]"
      ]
     },
     "metadata": {},
     "output_type": "display_data"
    },
    {
     "data": {
      "application/vnd.jupyter.widget-view+json": {
       "model_id": "23222ac2e11748279cd6cd423adcd66d",
       "version_major": 2,
       "version_minor": 0
      },
      "text/plain": [
       "config.json:   0%|          | 0.00/190 [00:00<?, ?B/s]"
      ]
     },
     "metadata": {},
     "output_type": "display_data"
    }
   ],
   "source": [
    "# 데이터 로딩 및 문장 추출\n",
    "dataset = load_dataset(\"li2017dailydialog/daily_dialog\")\n",
    "combined_dataset = concatenate_datasets([dataset['train'], dataset['validation'], dataset['test']])\n",
    "df = pd.DataFrame(combined_dataset)\n",
    "dialogues = df['dialog']\n",
    "\n",
    "sentences = []\n",
    "for conversation in dialogues:\n",
    "    sentences.extend(conversation)\n",
    "\n",
    "# 문장 임베딩 모델 로드 (MiniLM)\n",
    "model = SentenceTransformer('paraphrase-MiniLM-L6-v2').to(device)"
   ]
  },
  {
   "cell_type": "code",
   "execution_count": 5,
   "metadata": {
    "colab": {
     "base_uri": "https://localhost:8080/"
    },
    "id": "VDVVT4JEgx-d",
    "outputId": "05068bb9-e553-4003-cc08-27cd2e565b90"
   },
   "outputs": [
    {
     "name": "stderr",
     "output_type": "stream",
     "text": [
      "토큰 임베딩 생성: 100%|██████████| 6437/6437 [00:53<00:00, 120.46it/s]\n"
     ]
    },
    {
     "name": "stdout",
     "output_type": "stream",
     "text": [
      "생성된 토큰 임베딩 수: 1721791, 차원: 384\n"
     ]
    }
   ],
   "source": [
    "# 토큰 임베딩 생성 함수\n",
    "def generate_token_embeddings(sentences, batch_size=16):\n",
    "    all_embs = []\n",
    "    for i in tqdm(range(0, len(sentences), batch_size), desc=\"토큰 임베딩 생성\"):\n",
    "        batch = sentences[i:i+batch_size] # 배치 단위로 자르기\n",
    "        # 토큰화\n",
    "        inputs = model.tokenizer(batch, padding=True, truncation=True, return_tensors=\"pt\", max_length=128).to(device)\n",
    "\n",
    "        with torch.no_grad():\n",
    "          # transformer만 꺼내서 사용해 임베딩 벡터를 outputs에 저장 (학습되어있는 모델로 추론만)\n",
    "            outputs = model[0].auto_model(**inputs)\n",
    "          # 실제 토큰이면 1 아님 0을 해줌\n",
    "            mask = inputs['attention_mask'].cpu().numpy()\n",
    "            for j in range(outputs.last_hidden_state.shape[0]):\n",
    "              # 유효 토큰 길이만큼 슬라이싱 [1, 1, 1, 1, 0, 0] → valid_len = 4\n",
    "                valid_len = mask[j].sum()\n",
    "              # 패딩 제거하고 실제 토큰 임베딩만 가져옴\n",
    "                all_embs.extend(outputs.last_hidden_state[j, :valid_len].cpu().numpy())\n",
    "    return np.array(all_embs)\n",
    "\n",
    "token_embs = generate_token_embeddings(sentences)\n",
    "print(f\"생성된 토큰 임베딩 수: {len(token_embs)}, 차원: {token_embs.shape[1]}\")\n",
    "\n",
    "# 정규화 : 벡터 크기 무시해주기 위해서\n",
    "token_embs_normalized = token_embs / np.linalg.norm(token_embs, axis=1, keepdims=True)\n"
   ]
  },
  {
   "cell_type": "code",
   "execution_count": 6,
   "metadata": {
    "id": "sNgmD-YK8-G7"
   },
   "outputs": [],
   "source": [
    "# PyTorch Dataset 정의\n",
    "# PyTorch 모델 학습에 쓸 수 있도록 PyTorch의 Dataset과 DataLoader 형태로 변환하는 것\n",
    "class EmbeddingDataset(Dataset):\n",
    "    def __init__(self, embeddings):\n",
    "        self.embeddings = torch.tensor(embeddings, dtype=torch.float32) # tensor로 변환\n",
    "    def __len__(self):\n",
    "        return len(self.embeddings) # len하면 길이 반환\n",
    "    def __getitem__(self, idx):\n",
    "        return self.embeddings[idx] # idx하면 idx에 들어가있는 임베딩 벡터 반환\n",
    "\n",
    "# 함수 통과 우리가 만들어놓은 데이터\n",
    "dataset = EmbeddingDataset(token_embs_normalized)\n",
    "# dataloader에 data불러오고 섞기\n",
    "dataloader = DataLoader(dataset, batch_size=64, shuffle=True)"
   ]
  },
  {
   "cell_type": "code",
   "execution_count": 132,
   "metadata": {
    "id": "jOAMcCy7u04S"
   },
   "outputs": [],
   "source": [
    "from sklearn.cluster import KMeans\n",
    "import numpy as np\n",
    "\n",
    "class VQVAE(nn.Module):\n",
    "    def __init__(self, input_dim=384, hidden_dim=256, num_embeddings=64, embedding_dim=64, beta=0.25, decay=0.5, noise_std=0.01):\n",
    "        super().__init__()\n",
    "        self.num_embeddings = num_embeddings\n",
    "        self.embedding_dim = embedding_dim\n",
    "        self.beta = beta\n",
    "        self.decay = decay\n",
    "        self.noise_std = noise_std\n",
    "\n",
    "        # 인코더\n",
    "        self.encoder = nn.Sequential(\n",
    "            nn.Linear(input_dim, hidden_dim),\n",
    "            nn.ELU(),\n",
    "            nn.Linear(hidden_dim, embedding_dim),\n",
    "            nn.LayerNorm(embedding_dim)\n",
    "        )\n",
    "\n",
    "        # 코드북\n",
    "        self.codebook = nn.Embedding(num_embeddings, embedding_dim)\n",
    "\n",
    "        # 디코더\n",
    "        self.decoder = nn.Sequential(\n",
    "            nn.Linear(embedding_dim, hidden_dim),\n",
    "            nn.ELU(),\n",
    "            nn.Linear(hidden_dim, input_dim)\n",
    "        )\n",
    "\n",
    "        # EMA 관련 변수 선언\n",
    "        # register_buffer은 모델 내부에 등록되고 저장됨. 학습 대상은 아님.\n",
    "        self.register_buffer('ema_cluster_size', torch.zeros(num_embeddings)) # 코드북 벡터가 몇번 사용됐는지\n",
    "        self.register_buffer('ema_w', torch.zeros(num_embeddings, embedding_dim)) # 각 클러스터에 할당된 z_e의 누적합\n",
    "        self.codebook_usage = torch.zeros(num_embeddings, device=device) # 코드북 벡터가 몇번 사용됐는지\n",
    "\n",
    "    def forward(self, x):\n",
    "      # encoder통과한 z_e에 가우시안 노이즈 추가\n",
    "        z_e = self.encoder(x)\n",
    "        if self.training:\n",
    "            z_e = z_e + self.noise_std * torch.randn_like(z_e)\n",
    "\n",
    "        # 코드북과 거리 계산 → 가장 가까운 벡터 선택\n",
    "        distances = torch.cdist(z_e, self.codebook.weight) # 각 z_e와 모든 코드북 벡터 간 거리 계산\n",
    "        indices = torch.argmin(distances, dim=1) # 가장 가까운 코드북 벡터 인덱스 선택\n",
    "        z_q = self.codebook(indices) # 벡터 선택 (양자화된 벡터 z_q 획득)\n",
    "\n",
    "\n",
    "        # EMA 업데이트\n",
    "        if self.training:\n",
    "            with torch.no_grad():\n",
    "                one_hot = F.one_hot(indices, self.num_embeddings).float() # 코드북 벡터를 선택하면 1 아님 0 one-hot\n",
    "                cluster_size = one_hot.sum(0) # 원핫벡터 누적합\n",
    "                self.ema_cluster_size = self.decay * self.ema_cluster_size + (1 - self.decay) * cluster_size # ema\n",
    "                dw = torch.matmul(one_hot.T, z_e) # z_e의 누적합\n",
    "                self.ema_w = self.decay * self.ema_w + (1 - self.decay) * dw\n",
    "                n = self.ema_cluster_size.sum()\n",
    "                updated_cluster_size = (self.ema_cluster_size + 1e-5) / (n + self.num_embeddings * 1e-5) * n\n",
    "                self.codebook.weight.data = self.ema_w / updated_cluster_size.unsqueeze(-1)\n",
    "\n",
    "       # 손실 계산\n",
    "        recon_loss = F.mse_loss(self.decoder(z_q), x) # 재구성 손실\n",
    "        commit_loss = F.mse_loss(z_e, z_q.detach()) # z_e와 z_q간의 손실\n",
    "\n",
    "\n",
    "        #  Shannon Entropy 기반 codebook 분포 패널티\n",
    "        #  코드북을 하나만 사용하는 걸 방지하기 위해서 shannon entropy가 작으면 패널티를 주는 걸로\n",
    "        usage_probs = self.codebook_usage / (self.codebook_usage.sum() + 1e-9)#  코드북 벡터의 사용 비율\n",
    "        entropy_penalty = - (usage_probs * torch.log2(usage_probs + 1e-9)).sum() # Shannon Entropy 계산\n",
    "\n",
    "        loss = recon_loss + self.beta * commit_loss + 0.05 * entropy_penalty\n",
    "\n",
    "\n",
    "        # 코드북 사용 기록\n",
    "        unique_indices, counts = torch.unique(indices, return_counts=True)\n",
    "        self.codebook_usage[unique_indices] += counts.float().to(device)\n",
    "\n",
    "        return self.decoder(z_q), z_e, z_q, indices, loss, recon_loss, commit_loss"
   ]
  },
  {
   "cell_type": "code",
   "execution_count": 133,
   "metadata": {
    "id": "UN2CtTvIX5JW"
   },
   "outputs": [],
   "source": [
    "NUM_EMBEDDINGS = 64\n",
    "EMBED_DIM = 64\n",
    "#vqvae에 가져오기\n",
    "vqvae = VQVAE(input_dim=384, num_embeddings=NUM_EMBEDDINGS, embedding_dim=EMBED_DIM).to(device)\n",
    "\n",
    "# cluster로 초기 값 설정. -> 빠른 수렴 + 학습 원할하게 해주려고.\n",
    "\n",
    "# 이전에 numpy 배열로 저장한 토큰 임베딩(token_embs_normalized)을 GPU용 PyTorch 텐서로 변환\n",
    "token_tensor = torch.tensor(token_embs_normalized, dtype=torch.float32).to(device)\n",
    "# 인코더에 token들 넣고 z_e만 다 뺌\n",
    "with torch.no_grad():\n",
    "    z_e_all = vqvae.encoder(token_tensor).cpu().numpy()\n",
    "\n",
    "# 1만개만 랜덤으로 뽑기 (속도)\n",
    "sample_z_e = z_e_all[np.random.choice(len(z_e_all), size=10000, replace=False)]\n",
    "\n",
    "# 클러스터링해서 임베딩 벡터의 수만큼 중심점을 찾음\n",
    "kmeans = KMeans(n_clusters=NUM_EMBEDDINGS, random_state=42).fit(sample_z_e)\n",
    "\n",
    "#  z_e의 실제 분포 기반으로 의미 있는 위치로 초기화\n",
    "vqvae.codebook.weight.data = torch.tensor(kmeans.cluster_centers_, dtype=torch.float32).to(device)\n",
    "vqvae.ema_w = vqvae.codebook.weight.data.clone()"
   ]
  },
  {
   "cell_type": "code",
   "execution_count": 134,
   "metadata": {
    "colab": {
     "base_uri": "https://localhost:8080/"
    },
    "id": "zSUYIIwQ1NQH",
    "outputId": "dc137cc9-6845-48f7-b5d4-5ff90954c26f"
   },
   "outputs": [
    {
     "name": "stderr",
     "output_type": "stream",
     "text": [
      "Epoch 1/4: 100%|██████████| 26903/26903 [01:42<00:00, 262.26it/s]\n"
     ]
    },
    {
     "name": "stdout",
     "output_type": "stream",
     "text": [
      "Epoch 1 | Loss: 0.0191 | Recon Loss: 0.0024 | Commit Loss: 0.0001 | 코드북 사용: 37/64\n"
     ]
    },
    {
     "name": "stderr",
     "output_type": "stream",
     "text": [
      "Epoch 2/4: 100%|██████████| 26903/26903 [01:42<00:00, 261.36it/s]\n"
     ]
    },
    {
     "name": "stdout",
     "output_type": "stream",
     "text": [
      "Epoch 2 | Loss: 0.1456 | Recon Loss: 0.0024 | Commit Loss: 0.0001 | 코드북 사용: 64/64\n"
     ]
    },
    {
     "name": "stderr",
     "output_type": "stream",
     "text": [
      "Epoch 3/4: 100%|██████████| 26903/26903 [01:42<00:00, 262.25it/s]\n"
     ]
    },
    {
     "name": "stdout",
     "output_type": "stream",
     "text": [
      "Epoch 3 | Loss: 0.1532 | Recon Loss: 0.0024 | Commit Loss: 0.0001 | 코드북 사용: 64/64\n"
     ]
    },
    {
     "name": "stderr",
     "output_type": "stream",
     "text": [
      "Epoch 4/4: 100%|██████████| 26903/26903 [01:42<00:00, 261.54it/s]"
     ]
    },
    {
     "name": "stdout",
     "output_type": "stream",
     "text": [
      "Epoch 4 | Loss: 0.1520 | Recon Loss: 0.0024 | Commit Loss: 0.0001 | 코드북 사용: 64/64\n"
     ]
    },
    {
     "name": "stderr",
     "output_type": "stream",
     "text": [
      "\n"
     ]
    }
   ],
   "source": [
    "#  학습\n",
    "optimizer = optim.Adam(vqvae.parameters(), lr=3e-3)\n",
    "usage_history = []\n",
    "\n",
    "for epoch in range(4):\n",
    "    total_loss = total_recon_loss = total_commit_loss = 0\n",
    "    vqvae.codebook_usage.zero_() # 에포크마다 코드북 사용량 초기화\n",
    "\n",
    "    for batch in tqdm(dataloader, desc=f\"Epoch {epoch+1}/4\"):\n",
    "        batch = batch.to(device)\n",
    "        optimizer.zero_grad()\n",
    "        _, _, _, _, loss, recon_loss, commit_loss = vqvae(batch)\n",
    "        loss.backward()\n",
    "        optimizer.step()\n",
    "        total_loss += loss.item() # loss 더하기\n",
    "        total_recon_loss += recon_loss.item()\n",
    "        total_commit_loss += commit_loss.item()\n",
    "\n",
    "    print(f\"Epoch {epoch+1} | Loss: {total_loss / len(dataloader):.4f} | Recon Loss: {total_recon_loss / len(dataloader):.4f} | Commit Loss: {total_commit_loss / len(dataloader):.4f} | 코드북 사용: {(vqvae.codebook_usage > 0).sum().item()}/{NUM_EMBEDDINGS}\")\n",
    "    usage_history.append(vqvae.codebook_usage.cpu().numpy().copy())"
   ]
  },
  {
   "cell_type": "code",
   "execution_count": 135,
   "metadata": {
    "id": "zUxDpSa_BEH7"
   },
   "outputs": [],
   "source": [
    "# 변경됨: 학습 완료 모델 저장\n",
    "torch.save(vqvae.state_dict(), \"vqvae_trained.pt\")"
   ]
  },
  {
   "cell_type": "code",
   "execution_count": 136,
   "metadata": {
    "colab": {
     "base_uri": "https://localhost:8080/",
     "height": 1000
    },
    "id": "ngB1D_eb7NrY",
    "outputId": "a36e0005-1bcd-4602-fb01-411cebc9c58f"
   },
   "outputs": [
    {
     "data": {
      "image/png": "[encoded data removed]",
      "text/plain": [
       "<Figure size 1000x400 with 1 Axes>"
      ]
     },
     "metadata": {},
     "output_type": "display_data"
    },
    {
     "data": {
      "image/png": "[encoded data removed]",
      "text/plain": [
       "<Figure size 1000x400 with 1 Axes>"
      ]
     },
     "metadata": {},
     "output_type": "display_data"
    },
    {
     "data": {
      "image/png": "[encoded data removed]",
      "text/plain": [
       "<Figure size 1000x400 with 1 Axes>"
      ]
     },
     "metadata": {},
     "output_type": "display_data"
    },
    {
     "data": {
      "image/png": "[encoded data removed]",
      "text/plain": [
       "<Figure size 1000x400 with 1 Axes>"
      ]
     },
     "metadata": {},
     "output_type": "display_data"
    }
   ],
   "source": [
    "# 코드북 사용량 시각화\n",
    "for epoch_idx, usage in enumerate(usage_history, 1):\n",
    "    plt.figure(figsize=(10, 4))\n",
    "    plt.bar(np.arange(NUM_EMBEDDINGS), usage)\n",
    "    plt.title(f\"Codebook vector Usage (Epoch {epoch_idx})\")\n",
    "    plt.xlabel(\"Codebook Index\")\n",
    "    plt.ylabel(\"Usage Count\")\n",
    "    plt.show()"
   ]
  },
  {
   "cell_type": "code",
   "execution_count": 139,
   "metadata": {
    "id": "UKDNuOh6xDhi"
   },
   "outputs": [],
   "source": [
    "import torch\n",
    "import numpy as np\n",
    "from sentence_transformers import SentenceTransformer\n",
    "from transformers import AutoTokenizer\n",
    "\n",
    "def compute_entropy_from_indices(indices, num_embeddings):\n",
    "    counts = np.bincount(indices, minlength=num_embeddings)\n",
    "    probs = counts / (np.sum(counts) + 1e-9)\n",
    "    return -np.sum(probs * np.log2(probs + 1e-9))\n",
    "\n",
    "def analyze_sentences_entropy_np_norm(\n",
    "    sentences,\n",
    "    vqvae,\n",
    "    num_embeddings=64,\n",
    "    normalize_input=True\n",
    "):\n",
    "\n",
    "    # 평가 모드로 전환 (노이즈 비활성화됨)\n",
    "    vqvae.eval()\n",
    "\n",
    "\n",
    "    device = next(vqvae.parameters()).device\n",
    "    model = SentenceTransformer(\"paraphrase-MiniLM-L6-v2\").to(device)\n",
    "    transformer = model[0].auto_model\n",
    "    tokenizer = model.tokenizer\n",
    "    transformer.eval()\n",
    "\n",
    "    for i, sentence in enumerate(sentences, 1):\n",
    "        print(f\"\\n[문장 {i}] {sentence}\")\n",
    "        with torch.no_grad():\n",
    "            #  임베딩 추출\n",
    "            inputs = tokenizer(sentence, return_tensors=\"pt\", truncation=True, padding=True, max_length=128).to(device)\n",
    "            outputs = transformer(**inputs)\n",
    "\n",
    "            # 실제 토큰만 선택\n",
    "            mask = inputs[\"attention_mask\"].squeeze(0).bool()\n",
    "            token_embs = outputs.last_hidden_state[0][mask].cpu().numpy()\n",
    "\n",
    "            # 학습 때와 동일한 방식으로 정규화\n",
    "            if normalize_input:\n",
    "                token_embs = token_embs / np.linalg.norm(token_embs, axis=1, keepdims=True)\n",
    "\n",
    "            token_embs_tensor = torch.tensor(token_embs, dtype=torch.float32).to(device)\n",
    "\n",
    "            # VQ-VAE 통과\n",
    "            _, z_e, z_q, indices, _, _, _ = vqvae(token_embs_tensor)\n",
    "            indices_np = indices.cpu().numpy()\n",
    "\n",
    "            #  출력\n",
    "            tokens = tokenizer.convert_ids_to_tokens(inputs['input_ids'][0])\n",
    "            print(\"------------------------------\")\n",
    "            token_i = 0\n",
    "            for token in tokens:\n",
    "                if token not in ['[CLS]', '[SEP]', '[PAD]']:\n",
    "                    print(f\"{token:<16}→ {indices_np[token_i]}\")\n",
    "                    token_i += 1\n",
    "\n",
    "            H = compute_entropy_from_indices(indices_np, num_embeddings)\n",
    "            print(f\"📊 Shannon Entropy: {H:.4f} bits\")\n"
   ]
  },
  {
   "cell_type": "code",
   "execution_count": 142,
   "metadata": {
    "colab": {
     "base_uri": "https://localhost:8080/"
    },
    "id": "Fa76dL_W8sOr",
    "outputId": "c6e5e052-e033-4a08-be46-70a90a97bc40"
   },
   "outputs": [
    {
     "name": "stdout",
     "output_type": "stream",
     "text": [
      "\n",
      "[문장 1] Yes.\n",
      "------------------------------\n",
      "yes             → 17\n",
      ".               → 9\n",
      "📊 Shannon Entropy: 0.8113 bits\n",
      "\n",
      "[문장 2] Yes, I understand.\n",
      "------------------------------\n",
      "yes             → 17\n",
      ",               → 9\n",
      "i               → 9\n",
      "understand      → 9\n",
      ".               → 9\n",
      "📊 Shannon Entropy: 0.5917 bits\n",
      "\n",
      "[문장 3] I'm fine, but it's been hard.\n",
      "------------------------------\n",
      "i               → 17\n",
      "'               → 9\n",
      "m               → 9\n",
      "fine            → 9\n",
      ",               → 9\n",
      "but             → 9\n",
      "it              → 9\n",
      "'               → 9\n",
      "s               → 9\n",
      "been            → 9\n",
      "hard            → 9\n",
      ".               → 9\n",
      "📊 Shannon Entropy: 0.3712 bits\n",
      "\n",
      "[문장 4] Call me Sam, please\n",
      "------------------------------\n",
      "call            → 17\n",
      "me              → 9\n",
      "sam             → 9\n",
      ",               → 9\n",
      "please          → 9\n",
      "📊 Shannon Entropy: 0.5917 bits\n"
     ]
    }
   ],
   "source": [
    "test_sentences = [\n",
    "    \"Yes.\",\n",
    "    \"Yes, I understand.\",\n",
    "    \"I'm fine, but it's been hard.\",\n",
    "    \"Call me Sam, please\"\n",
    "]\n",
    "\n",
    "analyze_sentences_entropy_np_norm(test_sentences, vqvae, normalize_input=True)"
   ]
  },
  {
   "cell_type": "code",
   "execution_count": null,
   "metadata": {
    "id": "-1lJ1jO3NGOk"
   },
   "outputs": [],
   "source": []
  }
 ],
 "metadata": {
  "accelerator": "GPU",
  "colab": {
   "gpuType": "T4",
   "machine_shape": "hm",
   "provenance": []
  },
  "kernelspec": {
   "display_name": "Python 3",
   "name": "python3"
  },
  "language_info": {
   "name": "python"
  }
 },
 "nbformat": 4,
 "nbformat_minor": 0
}
