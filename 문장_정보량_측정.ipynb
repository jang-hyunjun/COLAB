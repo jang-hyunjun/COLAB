{
 "cells": [
  {
   "cell_type": "code",
   "execution_count": 1,
   "metadata": {
    "colab": {
     "base_uri": "https://localhost:8080/"
    },
    "id": "sDCfjorAXmAC",
    "outputId": "3b625c0a-ffce-4bde-c6d3-2d7c4245c6e3"
   },
   "outputs": [
    {
     "name": "stdout",
     "output_type": "stream",
     "text": [
      "Collecting datasets\n",
      "  Downloading datasets-3.5.0-py3-none-any.whl.metadata (19 kB)\n",
      "Requirement already satisfied: filelock in /usr/local/lib/python3.11/dist-packages (from datasets) (3.18.0)\n",
      "Requirement already satisfied: numpy>=1.17 in /usr/local/lib/python3.11/dist-packages (from datasets) (2.0.2)\n",
      "Requirement already satisfied: pyarrow>=15.0.0 in /usr/local/lib/python3.11/dist-packages (from datasets) (18.1.0)\n",
      "Collecting dill<0.3.9,>=0.3.0 (from datasets)\n",
      "  Downloading dill-0.3.8-py3-none-any.whl.metadata (10 kB)\n",
      "Requirement already satisfied: pandas in /usr/local/lib/python3.11/dist-packages (from datasets) (2.2.2)\n",
      "Requirement already satisfied: requests>=2.32.2 in /usr/local/lib/python3.11/dist-packages (from datasets) (2.32.3)\n",
      "Requirement already satisfied: tqdm>=4.66.3 in /usr/local/lib/python3.11/dist-packages (from datasets) (4.67.1)\n",
      "Collecting xxhash (from datasets)\n",
      "  Downloading xxhash-3.5.0-cp311-cp311-manylinux_2_17_x86_64.manylinux2014_x86_64.whl.metadata (12 kB)\n",
      "Collecting multiprocess<0.70.17 (from datasets)\n",
      "  Downloading multiprocess-0.70.16-py311-none-any.whl.metadata (7.2 kB)\n",
      "Collecting fsspec<=2024.12.0,>=2023.1.0 (from fsspec[http]<=2024.12.0,>=2023.1.0->datasets)\n",
      "  Downloading fsspec-2024.12.0-py3-none-any.whl.metadata (11 kB)\n",
      "Requirement already satisfied: aiohttp in /usr/local/lib/python3.11/dist-packages (from datasets) (3.11.15)\n",
      "Requirement already satisfied: huggingface-hub>=0.24.0 in /usr/local/lib/python3.11/dist-packages (from datasets) (0.30.1)\n",
      "Requirement already satisfied: packaging in /usr/local/lib/python3.11/dist-packages (from datasets) (24.2)\n",
      "Requirement already satisfied: pyyaml>=5.1 in /usr/local/lib/python3.11/dist-packages (from datasets) (6.0.2)\n",
      "Requirement already satisfied: aiohappyeyeballs>=2.3.0 in /usr/local/lib/python3.11/dist-packages (from aiohttp->datasets) (2.6.1)\n",
      "Requirement already satisfied: aiosignal>=1.1.2 in /usr/local/lib/python3.11/dist-packages (from aiohttp->datasets) (1.3.2)\n",
      "Requirement already satisfied: attrs>=17.3.0 in /usr/local/lib/python3.11/dist-packages (from aiohttp->datasets) (25.3.0)\n",
      "Requirement already satisfied: frozenlist>=1.1.1 in /usr/local/lib/python3.11/dist-packages (from aiohttp->datasets) (1.5.0)\n",
      "Requirement already satisfied: multidict<7.0,>=4.5 in /usr/local/lib/python3.11/dist-packages (from aiohttp->datasets) (6.3.1)\n",
      "Requirement already satisfied: propcache>=0.2.0 in /usr/local/lib/python3.11/dist-packages (from aiohttp->datasets) (0.3.1)\n",
      "Requirement already satisfied: yarl<2.0,>=1.17.0 in /usr/local/lib/python3.11/dist-packages (from aiohttp->datasets) (1.18.3)\n",
      "Requirement already satisfied: typing-extensions>=3.7.4.3 in /usr/local/lib/python3.11/dist-packages (from huggingface-hub>=0.24.0->datasets) (4.13.0)\n",
      "Requirement already satisfied: charset-normalizer<4,>=2 in /usr/local/lib/python3.11/dist-packages (from requests>=2.32.2->datasets) (3.4.1)\n",
      "Requirement already satisfied: idna<4,>=2.5 in /usr/local/lib/python3.11/dist-packages (from requests>=2.32.2->datasets) (3.10)\n",
      "Requirement already satisfied: urllib3<3,>=1.21.1 in /usr/local/lib/python3.11/dist-packages (from requests>=2.32.2->datasets) (2.3.0)\n",
      "Requirement already satisfied: certifi>=2017.4.17 in /usr/local/lib/python3.11/dist-packages (from requests>=2.32.2->datasets) (2025.1.31)\n",
      "Requirement already satisfied: python-dateutil>=2.8.2 in /usr/local/lib/python3.11/dist-packages (from pandas->datasets) (2.8.2)\n",
      "Requirement already satisfied: pytz>=2020.1 in /usr/local/lib/python3.11/dist-packages (from pandas->datasets) (2025.2)\n",
      "Requirement already satisfied: tzdata>=2022.7 in /usr/local/lib/python3.11/dist-packages (from pandas->datasets) (2025.2)\n",
      "Requirement already satisfied: six>=1.5 in /usr/local/lib/python3.11/dist-packages (from python-dateutil>=2.8.2->pandas->datasets) (1.17.0)\n",
      "Downloading datasets-3.5.0-py3-none-any.whl (491 kB)\n",
      "\u001b[2K   \u001b[90m━━━━━━━━━━━━━━━━━━━━━━━━━━━━━━━━━━━━━━━━\u001b[0m \u001b[32m491.2/491.2 kB\u001b[0m \u001b[31m8.1 MB/s\u001b[0m eta \u001b[36m0:00:00\u001b[0m\n",
      "\u001b[?25hDownloading dill-0.3.8-py3-none-any.whl (116 kB)\n",
      "\u001b[2K   \u001b[90m━━━━━━━━━━━━━━━━━━━━━━━━━━━━━━━━━━━━━━━━\u001b[0m \u001b[32m116.3/116.3 kB\u001b[0m \u001b[31m11.0 MB/s\u001b[0m eta \u001b[36m0:00:00\u001b[0m\n",
      "\u001b[?25hDownloading fsspec-2024.12.0-py3-none-any.whl (183 kB)\n",
      "\u001b[2K   \u001b[90m━━━━━━━━━━━━━━━━━━━━━━━━━━━━━━━━━━━━━━━━\u001b[0m \u001b[32m183.9/183.9 kB\u001b[0m \u001b[31m18.1 MB/s\u001b[0m eta \u001b[36m0:00:00\u001b[0m\n",
      "\u001b[?25hDownloading multiprocess-0.70.16-py311-none-any.whl (143 kB)\n",
      "\u001b[2K   \u001b[90m━━━━━━━━━━━━━━━━━━━━━━━━━━━━━━━━━━━━━━━━\u001b[0m \u001b[32m143.5/143.5 kB\u001b[0m \u001b[31m13.7 MB/s\u001b[0m eta \u001b[36m0:00:00\u001b[0m\n",
      "\u001b[?25hDownloading xxhash-3.5.0-cp311-cp311-manylinux_2_17_x86_64.manylinux2014_x86_64.whl (194 kB)\n",
      "\u001b[2K   \u001b[90m━━━━━━━━━━━━━━━━━━━━━━━━━━━━━━━━━━━━━━━━\u001b[0m \u001b[32m194.8/194.8 kB\u001b[0m \u001b[31m16.5 MB/s\u001b[0m eta \u001b[36m0:00:00\u001b[0m\n",
      "\u001b[?25hInstalling collected packages: xxhash, fsspec, dill, multiprocess, datasets\n",
      "  Attempting uninstall: fsspec\n",
      "    Found existing installation: fsspec 2025.3.2\n",
      "    Uninstalling fsspec-2025.3.2:\n",
      "      Successfully uninstalled fsspec-2025.3.2\n",
      "\u001b[31mERROR: pip's dependency resolver does not currently take into account all the packages that are installed. This behaviour is the source of the following dependency conflicts.\n",
      "torch 2.6.0+cu124 requires nvidia-cublas-cu12==12.4.5.8; platform_system == \"Linux\" and platform_machine == \"x86_64\", but you have nvidia-cublas-cu12 12.5.3.2 which is incompatible.\n",
      "torch 2.6.0+cu124 requires nvidia-cuda-cupti-cu12==12.4.127; platform_system == \"Linux\" and platform_machine == \"x86_64\", but you have nvidia-cuda-cupti-cu12 12.5.82 which is incompatible.\n",
      "torch 2.6.0+cu124 requires nvidia-cuda-nvrtc-cu12==12.4.127; platform_system == \"Linux\" and platform_machine == \"x86_64\", but you have nvidia-cuda-nvrtc-cu12 12.5.82 which is incompatible.\n",
      "torch 2.6.0+cu124 requires nvidia-cuda-runtime-cu12==12.4.127; platform_system == \"Linux\" and platform_machine == \"x86_64\", but you have nvidia-cuda-runtime-cu12 12.5.82 which is incompatible.\n",
      "torch 2.6.0+cu124 requires nvidia-cudnn-cu12==9.1.0.70; platform_system == \"Linux\" and platform_machine == \"x86_64\", but you have nvidia-cudnn-cu12 9.3.0.75 which is incompatible.\n",
      "torch 2.6.0+cu124 requires nvidia-cufft-cu12==11.2.1.3; platform_system == \"Linux\" and platform_machine == \"x86_64\", but you have nvidia-cufft-cu12 11.2.3.61 which is incompatible.\n",
      "torch 2.6.0+cu124 requires nvidia-curand-cu12==10.3.5.147; platform_system == \"Linux\" and platform_machine == \"x86_64\", but you have nvidia-curand-cu12 10.3.6.82 which is incompatible.\n",
      "torch 2.6.0+cu124 requires nvidia-cusolver-cu12==11.6.1.9; platform_system == \"Linux\" and platform_machine == \"x86_64\", but you have nvidia-cusolver-cu12 11.6.3.83 which is incompatible.\n",
      "torch 2.6.0+cu124 requires nvidia-cusparse-cu12==12.3.1.170; platform_system == \"Linux\" and platform_machine == \"x86_64\", but you have nvidia-cusparse-cu12 12.5.1.3 which is incompatible.\n",
      "torch 2.6.0+cu124 requires nvidia-nvjitlink-cu12==12.4.127; platform_system == \"Linux\" and platform_machine == \"x86_64\", but you have nvidia-nvjitlink-cu12 12.5.82 which is incompatible.\n",
      "gcsfs 2025.3.2 requires fsspec==2025.3.2, but you have fsspec 2024.12.0 which is incompatible.\u001b[0m\u001b[31m\n",
      "\u001b[0mSuccessfully installed datasets-3.5.0 dill-0.3.8 fsspec-2024.12.0 multiprocess-0.70.16 xxhash-3.5.0\n"
     ]
    }
   ],
   "source": [
    "!pip install datasets"
   ]
  },
  {
   "cell_type": "code",
   "execution_count": 2,
   "metadata": {
    "colab": {
     "base_uri": "https://localhost:8080/"
    },
    "id": "KF47yqupJk6_",
    "outputId": "06398021-98b7-498d-a962-66ae08ba109a"
   },
   "outputs": [
    {
     "name": "stdout",
     "output_type": "stream",
     "text": [
      "Requirement already satisfied: sentence-transformers in /usr/local/lib/python3.11/dist-packages (3.4.1)\n",
      "Requirement already satisfied: transformers<5.0.0,>=4.41.0 in /usr/local/lib/python3.11/dist-packages (from sentence-transformers) (4.50.3)\n",
      "Requirement already satisfied: tqdm in /usr/local/lib/python3.11/dist-packages (from sentence-transformers) (4.67.1)\n",
      "Requirement already satisfied: torch>=1.11.0 in /usr/local/lib/python3.11/dist-packages (from sentence-transformers) (2.6.0+cu124)\n",
      "Requirement already satisfied: scikit-learn in /usr/local/lib/python3.11/dist-packages (from sentence-transformers) (1.6.1)\n",
      "Requirement already satisfied: scipy in /usr/local/lib/python3.11/dist-packages (from sentence-transformers) (1.14.1)\n",
      "Requirement already satisfied: huggingface-hub>=0.20.0 in /usr/local/lib/python3.11/dist-packages (from sentence-transformers) (0.30.1)\n",
      "Requirement already satisfied: Pillow in /usr/local/lib/python3.11/dist-packages (from sentence-transformers) (11.1.0)\n",
      "Requirement already satisfied: filelock in /usr/local/lib/python3.11/dist-packages (from huggingface-hub>=0.20.0->sentence-transformers) (3.18.0)\n",
      "Requirement already satisfied: fsspec>=2023.5.0 in /usr/local/lib/python3.11/dist-packages (from huggingface-hub>=0.20.0->sentence-transformers) (2024.12.0)\n",
      "Requirement already satisfied: packaging>=20.9 in /usr/local/lib/python3.11/dist-packages (from huggingface-hub>=0.20.0->sentence-transformers) (24.2)\n",
      "Requirement already satisfied: pyyaml>=5.1 in /usr/local/lib/python3.11/dist-packages (from huggingface-hub>=0.20.0->sentence-transformers) (6.0.2)\n",
      "Requirement already satisfied: requests in /usr/local/lib/python3.11/dist-packages (from huggingface-hub>=0.20.0->sentence-transformers) (2.32.3)\n",
      "Requirement already satisfied: typing-extensions>=3.7.4.3 in /usr/local/lib/python3.11/dist-packages (from huggingface-hub>=0.20.0->sentence-transformers) (4.13.0)\n",
      "Requirement already satisfied: networkx in /usr/local/lib/python3.11/dist-packages (from torch>=1.11.0->sentence-transformers) (3.4.2)\n",
      "Requirement already satisfied: jinja2 in /usr/local/lib/python3.11/dist-packages (from torch>=1.11.0->sentence-transformers) (3.1.6)\n",
      "Collecting nvidia-cuda-nvrtc-cu12==12.4.127 (from torch>=1.11.0->sentence-transformers)\n",
      "  Downloading nvidia_cuda_nvrtc_cu12-12.4.127-py3-none-manylinux2014_x86_64.whl.metadata (1.5 kB)\n",
      "Collecting nvidia-cuda-runtime-cu12==12.4.127 (from torch>=1.11.0->sentence-transformers)\n",
      "  Downloading nvidia_cuda_runtime_cu12-12.4.127-py3-none-manylinux2014_x86_64.whl.metadata (1.5 kB)\n",
      "Collecting nvidia-cuda-cupti-cu12==12.4.127 (from torch>=1.11.0->sentence-transformers)\n",
      "  Downloading nvidia_cuda_cupti_cu12-12.4.127-py3-none-manylinux2014_x86_64.whl.metadata (1.6 kB)\n",
      "Collecting nvidia-cudnn-cu12==9.1.0.70 (from torch>=1.11.0->sentence-transformers)\n",
      "  Downloading nvidia_cudnn_cu12-9.1.0.70-py3-none-manylinux2014_x86_64.whl.metadata (1.6 kB)\n",
      "Collecting nvidia-cublas-cu12==12.4.5.8 (from torch>=1.11.0->sentence-transformers)\n",
      "  Downloading nvidia_cublas_cu12-12.4.5.8-py3-none-manylinux2014_x86_64.whl.metadata (1.5 kB)\n",
      "Collecting nvidia-cufft-cu12==11.2.1.3 (from torch>=1.11.0->sentence-transformers)\n",
      "  Downloading nvidia_cufft_cu12-11.2.1.3-py3-none-manylinux2014_x86_64.whl.metadata (1.5 kB)\n",
      "Collecting nvidia-curand-cu12==10.3.5.147 (from torch>=1.11.0->sentence-transformers)\n",
      "  Downloading nvidia_curand_cu12-10.3.5.147-py3-none-manylinux2014_x86_64.whl.metadata (1.5 kB)\n",
      "Collecting nvidia-cusolver-cu12==11.6.1.9 (from torch>=1.11.0->sentence-transformers)\n",
      "  Downloading nvidia_cusolver_cu12-11.6.1.9-py3-none-manylinux2014_x86_64.whl.metadata (1.6 kB)\n",
      "Collecting nvidia-cusparse-cu12==12.3.1.170 (from torch>=1.11.0->sentence-transformers)\n",
      "  Downloading nvidia_cusparse_cu12-12.3.1.170-py3-none-manylinux2014_x86_64.whl.metadata (1.6 kB)\n",
      "Requirement already satisfied: nvidia-cusparselt-cu12==0.6.2 in /usr/local/lib/python3.11/dist-packages (from torch>=1.11.0->sentence-transformers) (0.6.2)\n",
      "Requirement already satisfied: nvidia-nccl-cu12==2.21.5 in /usr/local/lib/python3.11/dist-packages (from torch>=1.11.0->sentence-transformers) (2.21.5)\n",
      "Requirement already satisfied: nvidia-nvtx-cu12==12.4.127 in /usr/local/lib/python3.11/dist-packages (from torch>=1.11.0->sentence-transformers) (12.4.127)\n",
      "Collecting nvidia-nvjitlink-cu12==12.4.127 (from torch>=1.11.0->sentence-transformers)\n",
      "  Downloading nvidia_nvjitlink_cu12-12.4.127-py3-none-manylinux2014_x86_64.whl.metadata (1.5 kB)\n",
      "Requirement already satisfied: triton==3.2.0 in /usr/local/lib/python3.11/dist-packages (from torch>=1.11.0->sentence-transformers) (3.2.0)\n",
      "Requirement already satisfied: sympy==1.13.1 in /usr/local/lib/python3.11/dist-packages (from torch>=1.11.0->sentence-transformers) (1.13.1)\n",
      "Requirement already satisfied: mpmath<1.4,>=1.1.0 in /usr/local/lib/python3.11/dist-packages (from sympy==1.13.1->torch>=1.11.0->sentence-transformers) (1.3.0)\n",
      "Requirement already satisfied: numpy>=1.17 in /usr/local/lib/python3.11/dist-packages (from transformers<5.0.0,>=4.41.0->sentence-transformers) (2.0.2)\n",
      "Requirement already satisfied: regex!=2019.12.17 in /usr/local/lib/python3.11/dist-packages (from transformers<5.0.0,>=4.41.0->sentence-transformers) (2024.11.6)\n",
      "Requirement already satisfied: tokenizers<0.22,>=0.21 in /usr/local/lib/python3.11/dist-packages (from transformers<5.0.0,>=4.41.0->sentence-transformers) (0.21.1)\n",
      "Requirement already satisfied: safetensors>=0.4.3 in /usr/local/lib/python3.11/dist-packages (from transformers<5.0.0,>=4.41.0->sentence-transformers) (0.5.3)\n",
      "Requirement already satisfied: joblib>=1.2.0 in /usr/local/lib/python3.11/dist-packages (from scikit-learn->sentence-transformers) (1.4.2)\n",
      "Requirement already satisfied: threadpoolctl>=3.1.0 in /usr/local/lib/python3.11/dist-packages (from scikit-learn->sentence-transformers) (3.6.0)\n",
      "Requirement already satisfied: MarkupSafe>=2.0 in /usr/local/lib/python3.11/dist-packages (from jinja2->torch>=1.11.0->sentence-transformers) (3.0.2)\n",
      "Requirement already satisfied: charset-normalizer<4,>=2 in /usr/local/lib/python3.11/dist-packages (from requests->huggingface-hub>=0.20.0->sentence-transformers) (3.4.1)\n",
      "Requirement already satisfied: idna<4,>=2.5 in /usr/local/lib/python3.11/dist-packages (from requests->huggingface-hub>=0.20.0->sentence-transformers) (3.10)\n",
      "Requirement already satisfied: urllib3<3,>=1.21.1 in /usr/local/lib/python3.11/dist-packages (from requests->huggingface-hub>=0.20.0->sentence-transformers) (2.3.0)\n",
      "Requirement already satisfied: certifi>=2017.4.17 in /usr/local/lib/python3.11/dist-packages (from requests->huggingface-hub>=0.20.0->sentence-transformers) (2025.1.31)\n",
      "Downloading nvidia_cublas_cu12-12.4.5.8-py3-none-manylinux2014_x86_64.whl (363.4 MB)\n",
      "\u001b[2K   \u001b[90m━━━━━━━━━━━━━━━━━━━━━━━━━━━━━━━━━━━━━━━━\u001b[0m \u001b[32m363.4/363.4 MB\u001b[0m \u001b[31m3.2 MB/s\u001b[0m eta \u001b[36m0:00:00\u001b[0m\n",
      "\u001b[?25hDownloading nvidia_cuda_cupti_cu12-12.4.127-py3-none-manylinux2014_x86_64.whl (13.8 MB)\n",
      "\u001b[2K   \u001b[90m━━━━━━━━━━━━━━━━━━━━━━━━━━━━━━━━━━━━━━━━\u001b[0m \u001b[32m13.8/13.8 MB\u001b[0m \u001b[31m70.3 MB/s\u001b[0m eta \u001b[36m0:00:00\u001b[0m\n",
      "\u001b[?25hDownloading nvidia_cuda_nvrtc_cu12-12.4.127-py3-none-manylinux2014_x86_64.whl (24.6 MB)\n",
      "\u001b[2K   \u001b[90m━━━━━━━━━━━━━━━━━━━━━━━━━━━━━━━━━━━━━━━━\u001b[0m \u001b[32m24.6/24.6 MB\u001b[0m \u001b[31m71.3 MB/s\u001b[0m eta \u001b[36m0:00:00\u001b[0m\n",
      "\u001b[?25hDownloading nvidia_cuda_runtime_cu12-12.4.127-py3-none-manylinux2014_x86_64.whl (883 kB)\n",
      "\u001b[2K   \u001b[90m━━━━━━━━━━━━━━━━━━━━━━━━━━━━━━━━━━━━━━━━\u001b[0m \u001b[32m883.7/883.7 kB\u001b[0m \u001b[31m57.5 MB/s\u001b[0m eta \u001b[36m0:00:00\u001b[0m\n",
      "\u001b[?25hDownloading nvidia_cudnn_cu12-9.1.0.70-py3-none-manylinux2014_x86_64.whl (664.8 MB)\n",
      "\u001b[2K   \u001b[90m━━━━━━━━━━━━━━━━━━━━━━━━━━━━━━━━━━━━━━━━\u001b[0m \u001b[32m664.8/664.8 MB\u001b[0m \u001b[31m2.1 MB/s\u001b[0m eta \u001b[36m0:00:00\u001b[0m\n",
      "\u001b[?25hDownloading nvidia_cufft_cu12-11.2.1.3-py3-none-manylinux2014_x86_64.whl (211.5 MB)\n",
      "\u001b[2K   \u001b[90m━━━━━━━━━━━━━━━━━━━━━━━━━━━━━━━━━━━━━━━━\u001b[0m \u001b[32m211.5/211.5 MB\u001b[0m \u001b[31m4.8 MB/s\u001b[0m eta \u001b[36m0:00:00\u001b[0m\n",
      "\u001b[?25hDownloading nvidia_curand_cu12-10.3.5.147-py3-none-manylinux2014_x86_64.whl (56.3 MB)\n",
      "\u001b[2K   \u001b[90m━━━━━━━━━━━━━━━━━━━━━━━━━━━━━━━━━━━━━━━━\u001b[0m \u001b[32m56.3/56.3 MB\u001b[0m \u001b[31m39.9 MB/s\u001b[0m eta \u001b[36m0:00:00\u001b[0m\n",
      "\u001b[?25hDownloading nvidia_cusolver_cu12-11.6.1.9-py3-none-manylinux2014_x86_64.whl (127.9 MB)\n",
      "\u001b[2K   \u001b[90m━━━━━━━━━━━━━━━━━━━━━━━━━━━━━━━━━━━━━━━━\u001b[0m \u001b[32m127.9/127.9 MB\u001b[0m \u001b[31m18.3 MB/s\u001b[0m eta \u001b[36m0:00:00\u001b[0m\n",
      "\u001b[?25hDownloading nvidia_cusparse_cu12-12.3.1.170-py3-none-manylinux2014_x86_64.whl (207.5 MB)\n",
      "\u001b[2K   \u001b[90m━━━━━━━━━━━━━━━━━━━━━━━━━━━━━━━━━━━━━━━━\u001b[0m \u001b[32m207.5/207.5 MB\u001b[0m \u001b[31m4.1 MB/s\u001b[0m eta \u001b[36m0:00:00\u001b[0m\n",
      "\u001b[?25hDownloading nvidia_nvjitlink_cu12-12.4.127-py3-none-manylinux2014_x86_64.whl (21.1 MB)\n",
      "\u001b[2K   \u001b[90m━━━━━━━━━━━━━━━━━━━━━━━━━━━━━━━━━━━━━━━━\u001b[0m \u001b[32m21.1/21.1 MB\u001b[0m \u001b[31m74.4 MB/s\u001b[0m eta \u001b[36m0:00:00\u001b[0m\n",
      "\u001b[?25hInstalling collected packages: nvidia-nvjitlink-cu12, nvidia-curand-cu12, nvidia-cufft-cu12, nvidia-cuda-runtime-cu12, nvidia-cuda-nvrtc-cu12, nvidia-cuda-cupti-cu12, nvidia-cublas-cu12, nvidia-cusparse-cu12, nvidia-cudnn-cu12, nvidia-cusolver-cu12\n",
      "  Attempting uninstall: nvidia-nvjitlink-cu12\n",
      "    Found existing installation: nvidia-nvjitlink-cu12 12.5.82\n",
      "    Uninstalling nvidia-nvjitlink-cu12-12.5.82:\n",
      "      Successfully uninstalled nvidia-nvjitlink-cu12-12.5.82\n",
      "  Attempting uninstall: nvidia-curand-cu12\n",
      "    Found existing installation: nvidia-curand-cu12 10.3.6.82\n",
      "    Uninstalling nvidia-curand-cu12-10.3.6.82:\n",
      "      Successfully uninstalled nvidia-curand-cu12-10.3.6.82\n",
      "  Attempting uninstall: nvidia-cufft-cu12\n",
      "    Found existing installation: nvidia-cufft-cu12 11.2.3.61\n",
      "    Uninstalling nvidia-cufft-cu12-11.2.3.61:\n",
      "      Successfully uninstalled nvidia-cufft-cu12-11.2.3.61\n",
      "  Attempting uninstall: nvidia-cuda-runtime-cu12\n",
      "    Found existing installation: nvidia-cuda-runtime-cu12 12.5.82\n",
      "    Uninstalling nvidia-cuda-runtime-cu12-12.5.82:\n",
      "      Successfully uninstalled nvidia-cuda-runtime-cu12-12.5.82\n",
      "  Attempting uninstall: nvidia-cuda-nvrtc-cu12\n",
      "    Found existing installation: nvidia-cuda-nvrtc-cu12 12.5.82\n",
      "    Uninstalling nvidia-cuda-nvrtc-cu12-12.5.82:\n",
      "      Successfully uninstalled nvidia-cuda-nvrtc-cu12-12.5.82\n",
      "  Attempting uninstall: nvidia-cuda-cupti-cu12\n",
      "    Found existing installation: nvidia-cuda-cupti-cu12 12.5.82\n",
      "    Uninstalling nvidia-cuda-cupti-cu12-12.5.82:\n",
      "      Successfully uninstalled nvidia-cuda-cupti-cu12-12.5.82\n",
      "  Attempting uninstall: nvidia-cublas-cu12\n",
      "    Found existing installation: nvidia-cublas-cu12 12.5.3.2\n",
      "    Uninstalling nvidia-cublas-cu12-12.5.3.2:\n",
      "      Successfully uninstalled nvidia-cublas-cu12-12.5.3.2\n",
      "  Attempting uninstall: nvidia-cusparse-cu12\n",
      "    Found existing installation: nvidia-cusparse-cu12 12.5.1.3\n",
      "    Uninstalling nvidia-cusparse-cu12-12.5.1.3:\n",
      "      Successfully uninstalled nvidia-cusparse-cu12-12.5.1.3\n",
      "  Attempting uninstall: nvidia-cudnn-cu12\n",
      "    Found existing installation: nvidia-cudnn-cu12 9.3.0.75\n",
      "    Uninstalling nvidia-cudnn-cu12-9.3.0.75:\n",
      "      Successfully uninstalled nvidia-cudnn-cu12-9.3.0.75\n",
      "  Attempting uninstall: nvidia-cusolver-cu12\n",
      "    Found existing installation: nvidia-cusolver-cu12 11.6.3.83\n",
      "    Uninstalling nvidia-cusolver-cu12-11.6.3.83:\n",
      "      Successfully uninstalled nvidia-cusolver-cu12-11.6.3.83\n",
      "Successfully installed nvidia-cublas-cu12-12.4.5.8 nvidia-cuda-cupti-cu12-12.4.127 nvidia-cuda-nvrtc-cu12-12.4.127 nvidia-cuda-runtime-cu12-12.4.127 nvidia-cudnn-cu12-9.1.0.70 nvidia-cufft-cu12-11.2.1.3 nvidia-curand-cu12-10.3.5.147 nvidia-cusolver-cu12-11.6.1.9 nvidia-cusparse-cu12-12.3.1.170 nvidia-nvjitlink-cu12-12.4.127\n"
     ]
    }
   ],
   "source": [
    "!pip install sentence-transformers"
   ]
  },
  {
   "cell_type": "code",
   "execution_count": 3,
   "metadata": {
    "id": "AFn1LOanW_eO"
   },
   "outputs": [],
   "source": [
    "import pandas as pd\n",
    "import numpy as np\n",
    "import torch\n",
    "import torch.nn as nn\n",
    "import torch.nn.functional as F\n",
    "import torch.optim as optim\n",
    "from torch.utils.data import Dataset, DataLoader\n",
    "from sentence_transformers import SentenceTransformer\n",
    "from datasets import load_dataset, concatenate_datasets\n",
    "from sklearn.cluster import KMeans\n",
    "from tqdm import tqdm\n",
    "import matplotlib.pyplot as plt\n",
    "import random\n",
    "from scipy.stats import entropy\n",
    "# 디바이스 설정\n",
    "device = torch.device('cuda' if torch.cuda.is_available() else 'cpu')"
   ]
  },
  {
   "cell_type": "code",
   "execution_count": 4,
   "metadata": {
    "colab": {
     "base_uri": "https://localhost:8080/",
     "height": 763,
     "referenced_widgets": [
      "036d52ab71a8458e816200869f64a316",
      "efd6a93c345e4c53a7c3de2e0379acfe",
      "081e4ff5d4eb4c60b9e993a366f99786",
      "c90cfa83c8514b4fbaa90cf83b25f0d2",
      "6ff39cd7cd724d628ccf712392bc04aa",
      "87c9fc416d204418bba565cb9026ee25",
      "71a1b6743bf84f1f9e35e342a5ac9e99",
      "61c8c828638f4c32aa5aa79401dd013b",
      "0dfdb0e143a54460b9b3284ab05aa4dd",
      "b85279a2176c411cb0a44f66905d89a3",
      "34ef3a8588a3416391a1adcb14e4cbad",
      "992811abfde347b2a33a0065e716e47e",
      "d1f58d64883a45b39310cfd6902b3079",
      "51ec593fa15d46db88a8d9df94e8d5d0",
      "5473aff1c71c44f0863073bea8ce218e",
      "2ba10e3540f543b8879a3ed252ccb98d",
      "e2e27e9c113244c8aba49c14e731d3cf",
      "ab6877c2c2e4411aaec6ea18159b3334",
      "0147698daf0c4257a175665ae49059a6",
      "adb5865703e146d9aadb2ff177ee99b7",
      "ebd16fb1cf444cca8197d97dfa610bc1",
      "35463ce4941f44589a5eb95f3e43ac81",
      "56275dc00c0e49c9ba4adef6a3bcd334",
      "bf9de2ef3a934766a15cdc343ea10140",
      "61261aa962e64c879c30d582fb6d65ac",
      "5c1f5ddc9f064e38a68fa518e86c26f4",
      "6c0fa04fa4db4fb6a7f2ebe48a5f15b2",
      "6beb93d4f996457584c07c3f195b33ae",
      "35f72afef0f54684b2b5af26555cf8b0",
      "18c4e87899ea40a5b1369871cb1b626f",
      "f1732cabe7f04eaf9e6956aec1164eaf",
      "5224f1d17b194d319ea2b12cbec3b437",
      "85c51bc78c4f49a9aa2a78c590674034",
      "a317e9e3f4804e4cb3a6ea5941fa4e0c",
      "08f7b9255ea2421f852e2518b86c47aa",
      "bd83b99030f842159746028ea85f9687",
      "971027444e5a4e8dbae66cbf5f510913",
      "47be50dfb2f64cd681e6a7dd96522118",
      "6c2353fd5903409d90528370acafc450",
      "d99f534c73964552a021d0399a36a3ed",
      "b888898d9e1348ea9372776131b29e0c",
      "cd6aec1fde1d48e48c764fe557c1c2f9",
      "6948928f37264109afef693599f79f72",
      "ff67e0ea6f9d4017893696611cf23a6c",
      "a4e16e1ac465493a9b69850635013b3c",
      "221a6f4d79564acdbd3dda9dc63feec8",
      "5b37ca4070b94518b20e14aadbd10bbf",
      "c7d238504c384cafbf34464bf5740ead",
      "b352b8c870e846da90da68a19c5f0f23",
      "29cfdc6f30e642fcad743a6bad82cf61",
      "11d1a83cfcbb4f91b035a4624708a48e",
      "92bca7f4368e48c18f8998fda3e15c6a",
      "025120461d6046c8849c937ea73c1f1f",
      "b8702d5ba0d74e218fa69371537b0d7f",
      "26cbcd88a9b1446e84493ed3f2ad88c7",
      "4b82e65870b949cabd4d690a850abb9a",
      "6c0bd51b9233434eb8f2238bd27438d3",
      "7c597869789445119611cb615e9d05a3",
      "db3bcd652d214292999059612c101a7b",
      "876ad2390d0e4cb1982536f016c490c9",
      "0838f7dbfb7d4aa7ab1b3fd7206cac8c",
      "3d1165d5282741c1b9c5a686def22a43",
      "3e71fd2c036f437dba6faf6bf1771695",
      "b6b3c8694fef424b881349d00db93bdf",
      "88116b246dea47daa3fd07843168c55b",
      "32ec894976ea42949bead4085c055caa",
      "f5398e92b38e4f279842f65678b9d43c",
      "051dd863e8a048aaba55b01e228d5e32",
      "9ca1badff76b401aa0f38999d1030167",
      "40fe0399142b4292bc96dab4a5ddf9aa",
      "ba7dd95be55240c2ac5351f96580b5b7",
      "2d60d211042c415daaefb1726dcd3d3f",
      "cbbe26f82c8345108d6a95a6695decaa",
      "0a7771fe77ea464fa531e06859cbab5c",
      "a468a53268184d3f9658b53b9a8daacc",
      "73b8941dc1ad419d8424d6061ce01b47",
      "097fe2e349a64e179b863bb3ce1e1d78",
      "330754cbc96245498c8c232d2ce5440d",
      "9e0fe3918cdb46d4b22b01b582f8e04c",
      "0debb3405c2244c9996ced7c5870635b",
      "0fea7e0702e14b0f8287b0fe752db5af",
      "31956a325be44f2090c287951fc7c94f",
      "cf01f454e56a4c8d94dd24899a9d21f4",
      "5473d5c88fce42c197a6ee8e0411f2c6",
      "6e17bffa278f4a6b92663857c71a8c20",
      "f44306cfb6594e9a9ee9a2ecce9555fb",
      "736ccf670799415e900fd950a67cd59e",
      "103d703d2013445ababcedb1cb75c346",
      "3d9eec67847146abb6d2564061837478",
      "f8f26a45273e40c583185d3897abd51d",
      "ffc8dee163a1400d94b3dcc90795b2df",
      "27ebd3a7968541c98e9528dcfa40132e",
      "2b17f1a172ae45b09f66ad85d9fde8e0",
      "8bd5cfc609bb460aad4c6d6ecff8e328",
      "794bdda5e30042b48eb390985f8bfcc0",
      "db99e089656d42d2a32fe10cc821aee1",
      "606c16bb1d7d44219a71f9be8c4e340a",
      "430184bed6024fd99f668ff2c2f36518",
      "7558ab1eb2944a2eab146daf95c3079a",
      "35302e6fcead469d9cd329f141724661",
      "47175b25c46645f2acb25bf5383d489e",
      "83bd34dc36144181a0c9ffbc0518cabe",
      "12ed1a56ce3c44dd9ec289b600f9c40b",
      "cb9bfcc84c5748b79f6c46e5100f5313",
      "a13e86a5f6844d2fa785d1ba36887b40",
      "f49f35b53f7b465f9efa4bf338a17a5f",
      "2631b14a25ff46d3a41dfe913beca7c4",
      "9caaef3262444c3393d455c40e2d1a7c",
      "d0cd8b0d90704a3ab1c17af5f6444d65",
      "43869efc6c8546999d56bedfcd0ce9e1",
      "68f2befb3389410bbe21c3cdcb161414",
      "8a9c38567810481fb3ccd6336ad30e71",
      "9ec615ad95554df3b00b4f03ea0e55a1",
      "2d291caad38047c99554ceb6dbecd7a7",
      "3d1c5b99c2a040debfc19f4e857ecc13",
      "2a6209e3c9b345fb93bcd3da878a9054",
      "390743d58bef4e419590b0cca581e8d1",
      "f2dda5480ef346f286641a237e1971b1",
      "3ccbba51ef744e6f877b029658cbe774",
      "67999bbfa65e4939914cf33787984627",
      "9b63e802b60a43dd9a44c2052fb52726",
      "349c7909e17c47158d120e2bd4172ca4",
      "41ee41a7fcd54e40bacc0e128fbdbf9a",
      "91a47f2ccaee41abb20cb2bba5bd451a",
      "b4bac9404c4c47d2979449725b1616ed",
      "9f74da8dddf04b77b7a486435f2425a6",
      "26e22eefcb5b4f618a7e5d8e42a0555f",
      "1ad5223b84eb437d822aa92c02f3c533",
      "25f1ee3591d0412497f6bf9ecd4f68ff",
      "64df515541bf46c2bc77772388a99b8c",
      "067734b6cee34d58a070b384ad305a63",
      "4cc92d85e0e4437bb0b9a0c44a3a2c70",
      "7584a962fa75477e96a53c75acb5c477",
      "0b2f6034410648868d008414afd329ff",
      "dbb0606df154496592f9f99d94778eb1",
      "cd63022e2e3840c5b9d1f087e13c4008",
      "01d4fec0fd344e1e9e24d668c288dd88",
      "fa1f55f0c1634973a13170e5786ca11f",
      "c4857531574640f5ab62ce155998a19e",
      "323c4d3318a640378f3d2eb5f1974d8c",
      "ab9ce7f5a82949aab691a6b786d6fe60",
      "a1273f9bee1b42549f6dbb1228eabcf6",
      "7565329dd59242b498457cd6592db781",
      "1f790ad9a8bd4751bd0a09517f92b56b",
      "4b73b7a75de5412584e9e17c7146bfda",
      "873614620aba4713b299a85f6c06d1fe",
      "ec50f031f51046009216fa631ede769e",
      "609ba94dd45a46e5a87dd6b0b048f566",
      "40a2404ca20843aca0323171cceea902",
      "cd80f5dbd5d94b0a85517de0407ad74e",
      "01634c4d0eb540099e4a41c9f26d374f",
      "22fb9e4f973d42d392ec70d42c09bc77",
      "0f94f0e1d86e4cc183e279dfd08f3bfb",
      "2412e9135aee4b658ea72e89aa60e959",
      "0bd7d7d9dd704aa5a00fc59f29e65805",
      "11f3c380d0fc49f492977901b5ee9d9e",
      "e7a7e32c950c41329849daaf7d66c3fa",
      "9cb3e39c2fc74573b218b82575b9e684",
      "9a75c4e080f24af5a5dbac190fdfaa73",
      "3e37e5870f534e408f41caa32506807b",
      "c15984756f3d4161be5f3c1326f57f1c",
      "16a7410e3d5545e99a72d1e1c4817c23",
      "a09fbb0c7f10497eb954fd799736ff17",
      "845466749ea5475d9ffb6e0592d8f59a",
      "08c524bb44e94b2892b11f64011f5a9a",
      "5329d031128a4b759e2d8d1c53aca32f",
      "1a25fe30ad6b452db37622e38839c36a",
      "15a5c8fcf82346bf8dcc17dc4a1be6fe",
      "5e15e50e73b34c9a9433774fcf173780",
      "bafbc5b7c7854a07918aec435f8caff9",
      "f3bfbd3f244a45e0abfedc2b95820dc2",
      "28062552998c481dba8c9fbf29b579fc",
      "fc961e61f58c420f9bd7bdc1ec984443",
      "a326ba39d06d4220b946699e6c158728",
      "952c3aa0f9b3465394a64f1d68890d89",
      "271d02b3933a42f2b9378103c406c3c5",
      "4a35e72141bf4209b46e5df06f91d24c",
      "8f37e3f2778c48a68524663c10bb49f2",
      "37438fc4cd1f46b68bc5a25451d99ab5",
      "1704fd8c2f4e4a2d9e33a30942032c06",
      "a44d3275e5df4ab0b679a113303db8a0",
      "ae4083363c6e4056a960e5060ac061ac",
      "e3b6885221504460893f980fc1972b3e",
      "53eb106033994c25986fbb07de966c1b",
      "ffa1dda9093a468383626aee0b6dd178",
      "8d3349ba06124380bfb20dd31d3becd0",
      "4fae33aff0764c37afc40435b6dcb0ff"
     ]
    },
    "id": "Dv_A8KJOXFvL",
    "outputId": "ed4b7c3b-f656-404a-8277-a931713dcae2"
   },
   "outputs": [
    {
     "name": "stderr",
     "output_type": "stream",
     "text": [
      "/usr/local/lib/python3.11/dist-packages/huggingface_hub/utils/_auth.py:94: UserWarning: \n",
      "The secret `HF_TOKEN` does not exist in your Colab secrets.\n",
      "To authenticate with the Hugging Face Hub, create a token in your settings tab (https://huggingface.co/settings/tokens), set it as secret in your Google Colab and restart your session.\n",
      "You will be able to reuse this secret in all of your notebooks.\n",
      "Please note that authentication is recommended but still optional to access public models or datasets.\n",
      "  warnings.warn(\n"
     ]
    },
    {
     "data": {
      "application/vnd.jupyter.widget-view+json": {
       "model_id": "036d52ab71a8458e816200869f64a316",
       "version_major": 2,
       "version_minor": 0
      },
      "text/plain": [
       "README.md:   0%|          | 0.00/7.27k [00:00<?, ?B/s]"
      ]
     },
     "metadata": {},
     "output_type": "display_data"
    },
    {
     "data": {
      "application/vnd.jupyter.widget-view+json": {
       "model_id": "992811abfde347b2a33a0065e716e47e",
       "version_major": 2,
       "version_minor": 0
      },
      "text/plain": [
       "daily_dialog.py:   0%|          | 0.00/4.85k [00:00<?, ?B/s]"
      ]
     },
     "metadata": {},
     "output_type": "display_data"
    },
    {
     "name": "stdout",
     "output_type": "stream",
     "text": [
      "The repository for li2017dailydialog/daily_dialog contains custom code which must be executed to correctly load the dataset. You can inspect the repository content at https://hf.co/datasets/li2017dailydialog/daily_dialog.\n",
      "You can avoid this prompt in future by passing the argument `trust_remote_code=True`.\n",
      "\n",
      "Do you wish to run the custom code? [y/N] y\n"
     ]
    },
    {
     "data": {
      "application/vnd.jupyter.widget-view+json": {
       "model_id": "56275dc00c0e49c9ba4adef6a3bcd334",
       "version_major": 2,
       "version_minor": 0
      },
      "text/plain": [
       "Downloading data:   0%|          | 0.00/4.48M [00:00<?, ?B/s]"
      ]
     },
     "metadata": {},
     "output_type": "display_data"
    },
    {
     "data": {
      "application/vnd.jupyter.widget-view+json": {
       "model_id": "a317e9e3f4804e4cb3a6ea5941fa4e0c",
       "version_major": 2,
       "version_minor": 0
      },
      "text/plain": [
       "Generating train split:   0%|          | 0/11118 [00:00<?, ? examples/s]"
      ]
     },
     "metadata": {},
     "output_type": "display_data"
    },
    {
     "data": {
      "application/vnd.jupyter.widget-view+json": {
       "model_id": "a4e16e1ac465493a9b69850635013b3c",
       "version_major": 2,
       "version_minor": 0
      },
      "text/plain": [
       "Generating validation split:   0%|          | 0/1000 [00:00<?, ? examples/s]"
      ]
     },
     "metadata": {},
     "output_type": "display_data"
    },
    {
     "data": {
      "application/vnd.jupyter.widget-view+json": {
       "model_id": "4b82e65870b949cabd4d690a850abb9a",
       "version_major": 2,
       "version_minor": 0
      },
      "text/plain": [
       "Generating test split:   0%|          | 0/1000 [00:00<?, ? examples/s]"
      ]
     },
     "metadata": {},
     "output_type": "display_data"
    },
    {
     "data": {
      "application/vnd.jupyter.widget-view+json": {
       "model_id": "f5398e92b38e4f279842f65678b9d43c",
       "version_major": 2,
       "version_minor": 0
      },
      "text/plain": [
       "modules.json:   0%|          | 0.00/229 [00:00<?, ?B/s]"
      ]
     },
     "metadata": {},
     "output_type": "display_data"
    },
    {
     "data": {
      "application/vnd.jupyter.widget-view+json": {
       "model_id": "330754cbc96245498c8c232d2ce5440d",
       "version_major": 2,
       "version_minor": 0
      },
      "text/plain": [
       "config_sentence_transformers.json:   0%|          | 0.00/122 [00:00<?, ?B/s]"
      ]
     },
     "metadata": {},
     "output_type": "display_data"
    },
    {
     "data": {
      "application/vnd.jupyter.widget-view+json": {
       "model_id": "3d9eec67847146abb6d2564061837478",
       "version_major": 2,
       "version_minor": 0
      },
      "text/plain": [
       "README.md:   0%|          | 0.00/3.51k [00:00<?, ?B/s]"
      ]
     },
     "metadata": {},
     "output_type": "display_data"
    },
    {
     "data": {
      "application/vnd.jupyter.widget-view+json": {
       "model_id": "35302e6fcead469d9cd329f141724661",
       "version_major": 2,
       "version_minor": 0
      },
      "text/plain": [
       "sentence_bert_config.json:   0%|          | 0.00/53.0 [00:00<?, ?B/s]"
      ]
     },
     "metadata": {},
     "output_type": "display_data"
    },
    {
     "data": {
      "application/vnd.jupyter.widget-view+json": {
       "model_id": "68f2befb3389410bbe21c3cdcb161414",
       "version_major": 2,
       "version_minor": 0
      },
      "text/plain": [
       "config.json:   0%|          | 0.00/629 [00:00<?, ?B/s]"
      ]
     },
     "metadata": {},
     "output_type": "display_data"
    },
    {
     "data": {
      "application/vnd.jupyter.widget-view+json": {
       "model_id": "349c7909e17c47158d120e2bd4172ca4",
       "version_major": 2,
       "version_minor": 0
      },
      "text/plain": [
       "model.safetensors:   0%|          | 0.00/90.9M [00:00<?, ?B/s]"
      ]
     },
     "metadata": {},
     "output_type": "display_data"
    },
    {
     "data": {
      "application/vnd.jupyter.widget-view+json": {
       "model_id": "7584a962fa75477e96a53c75acb5c477",
       "version_major": 2,
       "version_minor": 0
      },
      "text/plain": [
       "tokenizer_config.json:   0%|          | 0.00/314 [00:00<?, ?B/s]"
      ]
     },
     "metadata": {},
     "output_type": "display_data"
    },
    {
     "data": {
      "application/vnd.jupyter.widget-view+json": {
       "model_id": "1f790ad9a8bd4751bd0a09517f92b56b",
       "version_major": 2,
       "version_minor": 0
      },
      "text/plain": [
       "vocab.txt:   0%|          | 0.00/232k [00:00<?, ?B/s]"
      ]
     },
     "metadata": {},
     "output_type": "display_data"
    },
    {
     "data": {
      "application/vnd.jupyter.widget-view+json": {
       "model_id": "0bd7d7d9dd704aa5a00fc59f29e65805",
       "version_major": 2,
       "version_minor": 0
      },
      "text/plain": [
       "tokenizer.json:   0%|          | 0.00/466k [00:00<?, ?B/s]"
      ]
     },
     "metadata": {},
     "output_type": "display_data"
    },
    {
     "data": {
      "application/vnd.jupyter.widget-view+json": {
       "model_id": "5329d031128a4b759e2d8d1c53aca32f",
       "version_major": 2,
       "version_minor": 0
      },
      "text/plain": [
       "special_tokens_map.json:   0%|          | 0.00/112 [00:00<?, ?B/s]"
      ]
     },
     "metadata": {},
     "output_type": "display_data"
    },
    {
     "data": {
      "application/vnd.jupyter.widget-view+json": {
       "model_id": "4a35e72141bf4209b46e5df06f91d24c",
       "version_major": 2,
       "version_minor": 0
      },
      "text/plain": [
       "config.json:   0%|          | 0.00/190 [00:00<?, ?B/s]"
      ]
     },
     "metadata": {},
     "output_type": "display_data"
    }
   ],
   "source": [
    "# 데이터 로딩 및 문장 추출\n",
    "dataset = load_dataset(\"li2017dailydialog/daily_dialog\")\n",
    "combined_dataset = concatenate_datasets([dataset['train'], dataset['validation'], dataset['test']])\n",
    "df = pd.DataFrame(combined_dataset)\n",
    "dialogues = df['dialog']\n",
    "\n",
    "sentences = []\n",
    "for conversation in dialogues:\n",
    "    sentences.extend(conversation)\n",
    "\n",
    "# 문장 임베딩 모델 로드 (MiniLM)\n",
    "model = SentenceTransformer('paraphrase-MiniLM-L6-v2').to(device)"
   ]
  },
  {
   "cell_type": "code",
   "execution_count": 5,
   "metadata": {
    "colab": {
     "base_uri": "https://localhost:8080/"
    },
    "id": "VDVVT4JEgx-d",
    "outputId": "836982b6-0f85-4763-e40d-ae89b5520a03"
   },
   "outputs": [
    {
     "name": "stderr",
     "output_type": "stream",
     "text": [
      "토큰 임베딩 생성: 100%|██████████| 6437/6437 [00:52<00:00, 123.11it/s]\n"
     ]
    },
    {
     "name": "stdout",
     "output_type": "stream",
     "text": [
      "생성된 토큰 임베딩 수: 1721791, 차원: 384\n"
     ]
    }
   ],
   "source": [
    "# 토큰 임베딩 생성 함수\n",
    "def generate_token_embeddings(sentences, batch_size=16):\n",
    "    all_embs = []\n",
    "    for i in tqdm(range(0, len(sentences), batch_size), desc=\"토큰 임베딩 생성\"):\n",
    "        batch = sentences[i:i+batch_size] # 배치 단위로 자르기\n",
    "        # 토큰화\n",
    "        inputs = model.tokenizer(batch, padding=True, truncation=True, return_tensors=\"pt\", max_length=128).to(device)\n",
    "\n",
    "        with torch.no_grad():\n",
    "          # transformer만 꺼내서 사용해 임베딩 벡터를 outputs에 저장 (학습되어있는 모델로 추론만)\n",
    "            outputs = model[0].auto_model(**inputs)\n",
    "          # 실제 토큰이면 1 아님 0을 해줌\n",
    "            mask = inputs['attention_mask'].cpu().numpy()\n",
    "            for j in range(outputs.last_hidden_state.shape[0]):\n",
    "              # 유효 토큰 길이만큼 슬라이싱 [1, 1, 1, 1, 0, 0] → valid_len = 4\n",
    "                valid_len = mask[j].sum()\n",
    "              # 패딩 제거하고 실제 토큰 임베딩만 가져옴\n",
    "                all_embs.extend(outputs.last_hidden_state[j, :valid_len].cpu().numpy())\n",
    "    return np.array(all_embs)\n",
    "\n",
    "token_embs = generate_token_embeddings(sentences)\n",
    "print(f\"생성된 토큰 임베딩 수: {len(token_embs)}, 차원: {token_embs.shape[1]}\")\n"
   ]
  },
  {
   "cell_type": "code",
   "execution_count": 52,
   "metadata": {
    "id": "sNgmD-YK8-G7"
   },
   "outputs": [],
   "source": [
    "# PyTorch Dataset 정의\n",
    "# PyTorch 모델 학습에 쓸 수 있도록 PyTorch의 Dataset과 DataLoader 형태로 변환하는 것\n",
    "class EmbeddingDataset(Dataset):\n",
    "    def __init__(self, embeddings):\n",
    "        self.embeddings = torch.tensor(embeddings, dtype=torch.float32) # tensor로 변환\n",
    "    def __len__(self):\n",
    "        return len(self.embeddings) # len하면 길이 반환\n",
    "    def __getitem__(self, idx):\n",
    "        return self.embeddings[idx] # idx하면 idx에 들어가있는 임베딩 벡터 반환\n",
    "\n",
    "# 함수 통과 우리가 만들어놓은 데이터\n",
    "dataset = EmbeddingDataset(token_embs)\n",
    "# dataloader에 data불러오고 섞기\n",
    "dataloader = DataLoader(dataset, batch_size=64, shuffle=True)"
   ]
  },
  {
   "cell_type": "code",
   "execution_count": 53,
   "metadata": {
    "id": "M3miz8eFIsRI"
   },
   "outputs": [],
   "source": [
    "class NormalizeAndScale(nn.Module):\n",
    "    def __init__(self, scale=30.0):\n",
    "        super().__init__()\n",
    "        self.scale = scale\n",
    "\n",
    "    def forward(self, x):\n",
    "        x = F.normalize(x, p=2, dim=1)  # L2 정규화\n",
    "        return x * self.scale"
   ]
  },
  {
   "cell_type": "code",
   "execution_count": 54,
   "metadata": {
    "id": "jOAMcCy7u04S"
   },
   "outputs": [],
   "source": [
    "from sklearn.cluster import KMeans\n",
    "import numpy as np\n",
    "\n",
    "class VQVAE(nn.Module):\n",
    "    def __init__(self, input_dim=384, hidden_dim=192, num_embeddings=100, embedding_dim=48, beta=0.5, decay=0.99):\n",
    "        super().__init__()\n",
    "        self.num_embeddings = num_embeddings\n",
    "        self.embedding_dim = embedding_dim\n",
    "        self.beta = beta\n",
    "        self.decay = decay\n",
    "\n",
    "\n",
    "        # 인코더\n",
    "        self.encoder = nn.Sequential(\n",
    "            nn.Linear(input_dim, hidden_dim),\n",
    "            nn.ELU(),\n",
    "            nn.Linear(192, 96),\n",
    "            nn.ELU(),\n",
    "            nn.Linear(96, embedding_dim),\n",
    "            NormalizeAndScale(scale=10.0)\n",
    "       )\n",
    "\n",
    "\n",
    "        # 코드북\n",
    "        self.codebook = nn.Embedding(num_embeddings, embedding_dim)\n",
    "\n",
    "        # 디코더\n",
    "        self.decoder = nn.Sequential(\n",
    "            nn.Linear(embedding_dim, 96),\n",
    "            nn.ELU(),\n",
    "            nn.Linear(96, hidden_dim),\n",
    "            nn.ELU(),\n",
    "            nn.Linear(192, input_dim)\n",
    "        )\n",
    "\n",
    "        # EMA 관련 변수 선언\n",
    "        # register_buffer은 모델 내부에 등록되고 저장됨. 학습 대상은 아님.\n",
    "        self.register_buffer('ema_cluster_size', torch.zeros(num_embeddings)) # 코드북 벡터가 몇번 사용됐는지\n",
    "        self.register_buffer('ema_w', torch.zeros(num_embeddings, embedding_dim)) # 각 클러스터에 할당된 z_e의 누적합\n",
    "        self.codebook_usage = torch.zeros(num_embeddings, device=device) # 코드북 벡터가 몇번 사용됐는지\n",
    "\n",
    "    def forward(self, x):\n",
    "        z_e = self.encoder(x)\n",
    "\n",
    "        # 코드북과 거리 계산 → 가장 가까운 벡터 선택\n",
    "        distances = torch.cdist(z_e, self.codebook.weight) # 각 z_e와 모든 코드북 벡터 간 거리 계산\n",
    "        indices = torch.argmin(distances, dim=1) # 가장 가까운 코드북 벡터 인덱스 선택\n",
    "        z_q = self.codebook(indices) # 벡터 선택 (양자화된 벡터 z_q 획득)\n",
    "\n",
    "\n",
    "        # EMA 업데이트 (z_q가 좀 부드럽게 움직이도록)\n",
    "        if self.training:\n",
    "            with torch.no_grad():\n",
    "                one_hot = F.one_hot(indices, self.num_embeddings).float() # 코드북 벡터를 선택하면 1 아님 0 one-hot\n",
    "                cluster_size = one_hot.sum(0) # 원핫벡터 누적합\n",
    "                self.ema_cluster_size = self.decay * self.ema_cluster_size + (1 - self.decay) * cluster_size # ema\n",
    "                dw = torch.matmul(one_hot.T, z_e) # z_e의 누적합\n",
    "                self.ema_w = self.decay * self.ema_w + (1 - self.decay) * dw\n",
    "                n = self.ema_cluster_size.sum()\n",
    "                updated_cluster_size = (self.ema_cluster_size + 1e-5) / (n + self.num_embeddings * 1e-5) * n\n",
    "                self.codebook.weight.data = self.ema_w / updated_cluster_size.unsqueeze(-1)\n",
    "\n",
    "            # 죽은 코드북 벡터 살리기\n",
    "            dead_mask = self.ema_cluster_size < 1e-2  # 각 코드북 벡터가 얼마나 자주 선택되었는지를 추적하는 지표\n",
    "            if dead_mask.sum() > 0: # 죽은 벡터가 하나라도 있다면\n",
    "            # 3. z_e 중 랜덤으로 뽑아서 그걸로 죽은 코드북 벡터들을 초기화\n",
    "                rand_indices = torch.randint(0, z_e.shape[0], (dead_mask.sum(),), device=z_e.device)\n",
    "                self.codebook.weight.data[dead_mask] = z_e[rand_indices]\n",
    "\n",
    "       # 손실 계산\n",
    "        recon_loss = F.mse_loss(self.decoder(z_q), x) # 재구성 손실\n",
    "        commit_loss = F.mse_loss(z_e, z_q.detach()) # z_e와 z_q간의 손실\n",
    "\n",
    "\n",
    "        #  Shannon Entropy 기반 codebook 분포 패널티\n",
    "        #  코드북을 하나만 사용하는 걸 방지하기 위해서 shannon entropy가 작으면 패널티를 주는 걸로\n",
    "        usage_probs = self.codebook_usage / (self.codebook_usage.sum() + 1e-9)#  코드북 벡터의 사용 비율\n",
    "        entropy_penalty = - (usage_probs * torch.log2(usage_probs + 1e-9)).sum() # Shannon Entropy 계산\n",
    "\n",
    "        loss = recon_loss + self.beta * commit_loss  #entropy_weight * entropy_penalty\n",
    "\n",
    "\n",
    "        # 코드북 사용 기록\n",
    "        unique_indices, counts = torch.unique(indices, return_counts=True)\n",
    "        self.codebook_usage[unique_indices] += counts.float().to(device)\n",
    "\n",
    "        return self.decoder(z_q), z_e, z_q, indices, loss, recon_loss, commit_loss"
   ]
  },
  {
   "cell_type": "code",
   "execution_count": 55,
   "metadata": {
    "colab": {
     "base_uri": "https://localhost:8080/"
    },
    "id": "jPcyKIkMgHxV",
    "outputId": "b750f284-eb06-4c5f-99b0-dcc177b78f4c"
   },
   "outputs": [
    {
     "name": "stdout",
     "output_type": "stream",
     "text": [
      "z_e std: 1.4428396\n",
      "z_e per-dim std: [1.2079407  1.0410323  1.2093186  1.3248055  1.2681165  1.0276746\n",
      " 1.1698133  1.1691306  1.0926464  0.9705684  0.96409094 0.94981796\n",
      " 1.1361328  1.0458024  1.2011805  1.0768526  1.4993992  1.0321298\n",
      " 1.125924   1.0773431  1.1009629  1.1718379  1.2343619  1.2845056\n",
      " 1.1595948  1.0348115  1.3071238  1.0821679  1.1705532  1.0164919\n",
      " 1.2420714  1.3672755  1.1457293  1.0318826  1.0180836  1.1924746\n",
      " 1.0174558  1.2949221  1.1585921  1.1771455  1.2923863  0.9468526\n",
      " 1.2062258  1.2453326  0.99798787 1.2145156  0.96257395 1.4767585 ]\n"
     ]
    }
   ],
   "source": [
    "token_tensor = torch.tensor(token_embs, dtype=torch.float32).to(device)\n",
    "NUM_EMBEDDINGS = 100\n",
    "EMBED_DIM = 48\n",
    "vqvae = VQVAE(input_dim=384, num_embeddings=NUM_EMBEDDINGS, embedding_dim=EMBED_DIM).to(device)\n",
    "z_e_tensor = vqvae.encoder(token_tensor).detach().cpu().numpy()\n",
    "print(\"z_e std:\", np.std(z_e_tensor))              # 전체 std\n",
    "print(\"z_e per-dim std:\", np.std(z_e_tensor, axis=0))  # 각 차원별 std"
   ]
  },
  {
   "cell_type": "code",
   "execution_count": 56,
   "metadata": {
    "id": "UN2CtTvIX5JW"
   },
   "outputs": [],
   "source": [
    "NUM_EMBEDDINGS = 100\n",
    "EMBED_DIM = 48\n",
    "#vqvae에 가져오기\n",
    "vqvae = VQVAE(input_dim=384, num_embeddings=NUM_EMBEDDINGS, embedding_dim=EMBED_DIM).to(device)\n",
    "\n",
    "# cluster로 초기 값 설정. -> 빠른 수렴 + 학습 원할하게 해주려고.\n",
    "\n",
    "# 이전에 numpy 배열로 저장한 토큰 임베딩 tensor로 변환\n",
    "token_tensor = torch.tensor(token_embs, dtype=torch.float32).to(device)\n",
    "\n",
    "# 1. z_e 전체 추출\n",
    "with torch.no_grad():\n",
    "    z_e_all = vqvae.encoder(token_tensor).cpu().numpy()  # (전체 토큰 수, embedding_dim)\n",
    "\n",
    "# 2. 무작위 샘플링\n",
    "num_samples = min(1000000, len(z_e_all))\n",
    "sample_indices = np.random.choice(len(z_e_all), size=num_samples, replace=False)\n",
    "sample_z_e = z_e_all[sample_indices]\n",
    "\n",
    "# 3. 샘플 기반 KMeans 클러스터링\n",
    "kmeans = KMeans(n_clusters=NUM_EMBEDDINGS, random_state=42).fit(sample_z_e)\n",
    "\n",
    "# 4. 클러스터 중심으로 codebook 초기화\n",
    "vqvae.codebook.weight.data = torch.tensor(kmeans.cluster_centers_, dtype=torch.float32).to(device)\n",
    "vqvae.ema_w = vqvae.codebook.weight.data.clone()"
   ]
  },
  {
   "cell_type": "code",
   "execution_count": 57,
   "metadata": {
    "colab": {
     "base_uri": "https://localhost:8080/"
    },
    "id": "zSUYIIwQ1NQH",
    "outputId": "0b71d2f2-33a3-4bd1-8742-80e1ac7b0d20"
   },
   "outputs": [
    {
     "name": "stderr",
     "output_type": "stream",
     "text": [
      "Epoch 1/4: 100%|██████████| 26903/26903 [02:01<00:00, 221.82it/s]\n"
     ]
    },
    {
     "name": "stdout",
     "output_type": "stream",
     "text": [
      "Loss: 0.2770 | Recon Loss: 0.2760 | Commit Loss: 0.0022 | 코드북 사용: 100/100\n"
     ]
    },
    {
     "name": "stderr",
     "output_type": "stream",
     "text": [
      "Epoch 2/4: 100%|██████████| 26903/26903 [02:01<00:00, 221.84it/s]\n"
     ]
    },
    {
     "name": "stdout",
     "output_type": "stream",
     "text": [
      "Loss: 0.2714 | Recon Loss: 0.2710 | Commit Loss: 0.0007 | 코드북 사용: 100/100\n"
     ]
    },
    {
     "name": "stderr",
     "output_type": "stream",
     "text": [
      "Epoch 3/4: 100%|██████████| 26903/26903 [02:01<00:00, 221.56it/s]\n"
     ]
    },
    {
     "name": "stdout",
     "output_type": "stream",
     "text": [
      "Loss: 0.2731 | Recon Loss: 0.2726 | Commit Loss: 0.0010 | 코드북 사용: 100/100\n"
     ]
    },
    {
     "name": "stderr",
     "output_type": "stream",
     "text": [
      "Epoch 4/4: 100%|██████████| 26903/26903 [01:59<00:00, 224.44it/s]"
     ]
    },
    {
     "name": "stdout",
     "output_type": "stream",
     "text": [
      "Loss: 0.2686 | Recon Loss: 0.2683 | Commit Loss: 0.0004 | 코드북 사용: 100/100\n"
     ]
    },
    {
     "name": "stderr",
     "output_type": "stream",
     "text": [
      "\n"
     ]
    }
   ],
   "source": [
    "optimizer = optim.Adam(vqvae.parameters(), lr=3e-3)\n",
    "usage_history = []\n",
    "\n",
    "epochs = 4\n",
    "\n",
    "for epoch in range(epochs):\n",
    "\n",
    "    total_loss = total_recon_loss = total_commit_loss = 0\n",
    "    vqvae.codebook_usage.zero_()\n",
    "\n",
    "    for batch in tqdm(dataloader, desc=f\"Epoch {epoch+1}/{epochs}\"):\n",
    "        batch = batch.to(device)\n",
    "        optimizer.zero_grad()\n",
    "\n",
    "        _, _, _, _, loss, recon_loss, commit_loss = vqvae(batch)\n",
    "\n",
    "        loss.backward()\n",
    "        optimizer.step()\n",
    "\n",
    "        total_loss += loss.item()\n",
    "        total_recon_loss += recon_loss.item()\n",
    "        total_commit_loss += commit_loss.item()\n",
    "\n",
    "    print(\n",
    "          f\"Loss: {total_loss / len(dataloader):.4f} | \"\n",
    "          f\"Recon Loss: {total_recon_loss / len(dataloader):.4f} | \"\n",
    "          f\"Commit Loss: {total_commit_loss / len(dataloader):.4f} | \"\n",
    "          f\"코드북 사용: {(vqvae.codebook_usage > 0).sum().item()}/{NUM_EMBEDDINGS}\")\n",
    "\n",
    "    usage_history.append(vqvae.codebook_usage.cpu().numpy().copy())\n"
   ]
  },
  {
   "cell_type": "code",
   "execution_count": 58,
   "metadata": {
    "id": "zUxDpSa_BEH7"
   },
   "outputs": [],
   "source": [
    "# 변경됨: 학습 완료 모델 저장\n",
    "torch.save(vqvae.state_dict(), \"vqvae_trained.pt\")"
   ]
  },
  {
   "cell_type": "code",
   "execution_count": 59,
   "metadata": {
    "colab": {
     "base_uri": "https://localhost:8080/",
     "height": 1000
    },
    "id": "ngB1D_eb7NrY",
    "outputId": "5389a337-1b5e-4947-b220-1ff323f9aaa8"
   },
   "outputs": [
    {
     "data": {
      "image/png": "[encoded data removed]",
      "text/plain": [
       "<Figure size 1000x400 with 1 Axes>"
      ]
     },
     "metadata": {},
     "output_type": "display_data"
    },
    {
     "data": {
      "image/png": "[encoded data removed]",
      "text/plain": [
       "<Figure size 1000x400 with 1 Axes>"
      ]
     },
     "metadata": {},
     "output_type": "display_data"
    },
    {
     "data": {
      "image/png": "[encoded data removed]",
      "text/plain": [
       "<Figure size 1000x400 with 1 Axes>"
      ]
     },
     "metadata": {},
     "output_type": "display_data"
    },
    {
     "data": {
      "image/png": "[encoded data removed]",
      "text/plain": [
       "<Figure size 1000x400 with 1 Axes>"
      ]
     },
     "metadata": {},
     "output_type": "display_data"
    }
   ],
   "source": [
    "# 코드북 사용량 시각화\n",
    "for epoch_idx, usage in enumerate(usage_history, 1):\n",
    "    plt.figure(figsize=(10, 4))\n",
    "    plt.bar(np.arange(NUM_EMBEDDINGS), usage)\n",
    "    plt.title(f\"Codebook vector Usage (Epoch {epoch_idx})\")\n",
    "    plt.xlabel(\"Codebook Index\")\n",
    "    plt.ylabel(\"Usage Count\")\n",
    "    plt.show()"
   ]
  },
  {
   "cell_type": "code",
   "execution_count": 60,
   "metadata": {
    "id": "UKDNuOh6xDhi"
   },
   "outputs": [],
   "source": [
    "import torch\n",
    "import numpy as np\n",
    "from sentence_transformers import SentenceTransformer\n",
    "from transformers import AutoTokenizer\n",
    "\n",
    "#  코드북 인덱스를 기반으로 Shannon Entropy 계산\n",
    "def compute_entropy_from_indices(indices, num_embeddings):\n",
    "    counts = np.bincount(indices, minlength=num_embeddings)\n",
    "    probs = counts / (np.sum(counts) + 1e-9)\n",
    "    return -np.sum(probs * np.log2(probs + 1e-9))\n",
    "\n",
    "\n",
    "#  테스트 함수 정의\n",
    "def analyze_sentences_entropy_np_norm(\n",
    "    sentences,\n",
    "    vqvae,\n",
    "    num_embeddings=100,\n",
    "    normalize_input=True,\n",
    "    scale_factor=30.0  #  분산 확대\n",
    "):\n",
    "    # 평가 모드로 전환\n",
    "    vqvae.eval()\n",
    "\n",
    "    device = next(vqvae.parameters()).device\n",
    "\n",
    "    # 모델 로딩\n",
    "    model = SentenceTransformer(\"paraphrase-MiniLM-L6-v2\").to(device)\n",
    "    transformer = model[0].auto_model\n",
    "    tokenizer = model.tokenizer\n",
    "    transformer.eval()\n",
    "\n",
    "    for i, sentence in enumerate(sentences, 1):\n",
    "        print(f\"\\n[문장 {i}] {sentence}\")\n",
    "        with torch.no_grad():\n",
    "            # 토큰 임베딩 추출\n",
    "            inputs = tokenizer(sentence, return_tensors=\"pt\", truncation=True, padding=True, max_length=128).to(device)\n",
    "            outputs = transformer(**inputs)\n",
    "\n",
    "            # 유효 토큰만 선택\n",
    "            mask = inputs[\"attention_mask\"].squeeze(0).bool()\n",
    "            token_embs = outputs.last_hidden_state[0][mask].cpu().numpy()\n",
    "\n",
    "            token_embs_tensor = torch.tensor(token_embs, dtype=torch.float32).to(device)\n",
    "\n",
    "            # VQ-VAE에 통과\n",
    "            _, z_e, z_q, indices, _, _, _ = vqvae(token_embs_tensor)\n",
    "            indices_np = indices.cpu().numpy()\n",
    "\n",
    "            #  토큰 - 코드북 인덱스 출력\n",
    "            tokens = tokenizer.convert_ids_to_tokens(inputs['input_ids'][0])\n",
    "            print(\"------------------------------\")\n",
    "            token_i = 0\n",
    "            for token in tokens:\n",
    "                if token not in ['[CLS]', '[SEP]', '[PAD]']:\n",
    "                    print(f\"{token:<16}→ {indices_np[token_i]}\")\n",
    "                    token_i += 1\n",
    "\n",
    "            # Shannon Entropy 출력\n",
    "            H = compute_entropy_from_indices(indices_np, num_embeddings)\n",
    "            print(f\" Shannon Entropy: {H:.4f} bits\")\n"
   ]
  },
  {
   "cell_type": "code",
   "execution_count": 64,
   "metadata": {
    "colab": {
     "base_uri": "https://localhost:8080/"
    },
    "id": "Fa76dL_W8sOr",
    "outputId": "3e8174e8-1a09-4d4b-d430-3c73156f7034"
   },
   "outputs": [
    {
     "name": "stdout",
     "output_type": "stream",
     "text": [
      "\n",
      "[문장 1] Yes.\n",
      "------------------------------\n",
      "yes             → 17\n",
      ".               → 64\n",
      " Shannon Entropy: 2.0000 bits\n",
      "\n",
      "[문장 2] Yes, I understand.\n",
      "------------------------------\n",
      "yes             → 24\n",
      ",               → 3\n",
      "i               → 87\n",
      "understand      → 87\n",
      ".               → 97\n",
      " Shannon Entropy: 2.5216 bits\n",
      "\n",
      "[문장 3] I'm fine, but it's been hard.\n",
      "------------------------------\n",
      "i               → 62\n",
      "'               → 32\n",
      "m               → 63\n",
      "fine            → 10\n",
      ",               → 97\n",
      "but             → 32\n",
      "it              → 48\n",
      "'               → 30\n",
      "s               → 29\n",
      "been            → 98\n",
      "hard            → 93\n",
      ".               → 84\n",
      " Shannon Entropy: 3.6645 bits\n",
      "\n",
      "[문장 4] Call me Sam, please\n",
      "------------------------------\n",
      "call            → 2\n",
      "me              → 93\n",
      "sam             → 87\n",
      ",               → 48\n",
      "please          → 96\n",
      " Shannon Entropy: 2.5216 bits\n",
      "\n",
      "[문장 5] \n",
      "------------------------------\n",
      " Shannon Entropy: 1.0000 bits\n"
     ]
    }
   ],
   "source": [
    "test_sentences = [\n",
    "    \"Yes.\",\n",
    "    \"Yes, I understand.\",\n",
    "    \"I'm fine, but it's been hard.\",\n",
    "    \"Call me Sam, please\",\n",
    "    \"\"\n",
    "]\n",
    "analyze_sentences_entropy_np_norm(test_sentences, vqvae, num_embeddings=100)"
   ]
  },
  {
   "cell_type": "code",
   "execution_count": 65,
   "metadata": {
    "colab": {
     "base_uri": "https://localhost:8080/"
    },
    "id": "-1lJ1jO3NGOk",
    "outputId": "eb703b1e-35e8-419d-b92b-99edd4c2b81d"
   },
   "outputs": [
    {
     "name": "stdout",
     "output_type": "stream",
     "text": [
      "z_e std: 1.3486825\n"
     ]
    }
   ],
   "source": [
    "z_e_tensor = vqvae.encoder(token_tensor).detach().cpu().numpy()\n",
    "print(\"z_e std:\", np.std(z_e_tensor))"
   ]
  },
  {
   "cell_type": "code",
   "execution_count": null,
   "metadata": {
    "id": "TLaH1gwpWAIw"
   },
   "outputs": [],
   "source": []
  }
 ],
 "metadata": {
  "accelerator": "GPU",
  "colab": {
   "gpuType": "T4",
   "machine_shape": "hm",
   "provenance": []
  },
  "kernelspec": {
   "display_name": "Python 3",
   "name": "python3"
  },
  "language_info": {
   "name": "python"
  }
 },
 "nbformat": 4,
 "nbformat_minor": 0
}
